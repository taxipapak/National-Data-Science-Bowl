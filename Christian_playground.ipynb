{
 "cells": [
  {
   "cell_type": "code",
   "execution_count": 1,
   "metadata": {},
   "outputs": [
    {
     "name": "stderr",
     "output_type": "stream",
     "text": [
      "Using TensorFlow backend.\n"
     ]
    }
   ],
   "source": [
    "import numpy as np \n",
    "import pandas as pd\n",
    "import os, zipfile\n",
    "\n",
    "import matplotlib.pyplot as plt\n",
    "import matplotlib.image as mpimg\n",
    "from PIL import Image\n",
    "\n",
    "from keras.preprocessing.image import load_img, img_to_array\n",
    "from keras.utils.np_utils import to_categorical\n",
    "from sklearn.model_selection import train_test_split"
   ]
  },
  {
   "cell_type": "markdown",
   "metadata": {},
   "source": [
    "<h1>Preprocessing</h1>"
   ]
  },
  {
   "cell_type": "code",
   "execution_count": 2,
   "metadata": {
    "collapsed": true
   },
   "outputs": [],
   "source": [
    "# read in data\n",
    "train_df = pd.read_csv('./train_onelabel.csv')\n",
    "train_images_paths = ['./train_images/' + p for p in train_df.image]\n",
    "train_labels = train_df['class'].values"
   ]
  },
  {
   "cell_type": "code",
   "execution_count": 3,
   "metadata": {},
   "outputs": [
    {
     "data": {
      "text/plain": [
       "(24204, 32, 32, 1)"
      ]
     },
     "execution_count": 3,
     "metadata": {},
     "output_type": "execute_result"
    }
   ],
   "source": [
    "# create image matrix\n",
    "train_images = (load_img(p, target_size=(32, 32)) for p in train_images_paths)\n",
    "train_images = [img_to_array(img)[:, :, [0]] for img in train_images]\n",
    "train_images = np.array(train_images)\n",
    "train_images.shape"
   ]
  },
  {
   "cell_type": "code",
   "execution_count": 4,
   "metadata": {
    "collapsed": true
   },
   "outputs": [],
   "source": [
    "# preprocessing of labels\n",
    "classes = len(np.unique(train_labels))\n",
    "train_labels = to_categorical(train_labels, classes)"
   ]
  },
  {
   "cell_type": "code",
   "execution_count": 9,
   "metadata": {
    "collapsed": true
   },
   "outputs": [],
   "source": [
    "# split data into test and train set\n",
    "x_train, y_train, x_val,  y_val = train_test_split(train_images, train_labels, test_size=0.2)"
   ]
  },
  {
   "cell_type": "code",
   "execution_count": 10,
   "metadata": {
    "collapsed": true
   },
   "outputs": [],
   "source": [
    "# normalize image data\n",
    "\n",
    "x_train = x_train.astype('float32')\n",
    "y_train = y_train.astype('float32')\n",
    "x_train /= 255\n",
    "y_train /= 255"
   ]
  },
  {
   "cell_type": "markdown",
   "metadata": {},
   "source": [
    "<h1>Model</h1>"
   ]
  },
  {
   "cell_type": "code",
   "execution_count": 11,
   "metadata": {
    "collapsed": true
   },
   "outputs": [],
   "source": [
    "# Importing the Keras libraries and packages\n",
    "from keras.models import Sequential\n",
    "from keras.layers import Conv2D\n",
    "from keras.layers import MaxPooling2D\n",
    "from keras.layers import Flatten\n",
    "from keras.layers import Dense\n",
    "from keras.layers import Dropout"
   ]
  },
  {
   "cell_type": "code",
   "execution_count": 8,
   "metadata": {
    "collapsed": true
   },
   "outputs": [],
   "source": [
    "# Initialising the CNN\n",
    "classifier = Sequential()"
   ]
  },
  {
   "cell_type": "code",
   "execution_count": 9,
   "metadata": {
    "collapsed": true
   },
   "outputs": [],
   "source": [
    "# Step 1 - Convolution ---TODO: see input specification\n",
    "classifier.add(Conv2D(32, (3, 3), input_shape = (32, 32,1),padding='same', activation = 'relu'))"
   ]
  },
  {
   "cell_type": "code",
   "execution_count": 10,
   "metadata": {
    "collapsed": true
   },
   "outputs": [],
   "source": [
    "# Step 2 - Pooling\n",
    "classifier.add(MaxPooling2D(pool_size = (2, 2)))"
   ]
  },
  {
   "cell_type": "code",
   "execution_count": 11,
   "metadata": {
    "collapsed": true
   },
   "outputs": [],
   "source": [
    "# Adding a second convolutional layer+pooling layer\n",
    "classifier.add(Conv2D(32, (3, 3), activation = 'relu', padding='same'))\n",
    "classifier.add(MaxPooling2D(pool_size = (2, 2)))"
   ]
  },
  {
   "cell_type": "code",
   "execution_count": 12,
   "metadata": {
    "collapsed": true
   },
   "outputs": [],
   "source": [
    "# Step 3 - Flattening\n",
    "classifier.add(Flatten())"
   ]
  },
  {
   "cell_type": "code",
   "execution_count": 13,
   "metadata": {
    "collapsed": true
   },
   "outputs": [],
   "source": [
    "#Step 4 - Create a fully connected neural network\n",
    "'''its good practise to pick a number of power of two-experimenting output_dim\n",
    "128 hidden nodes in hidden layers-by experimenting'''\n",
    " \n",
    "\n",
    "#output_dim = number of nodes in the hidden layer\n",
    "classifier.add(Dense(units= 128, activation = 'relu'))\n",
    "\n",
    "#Dropout (p was used in the old API, changed it to the new standard)\n",
    "classifier.add(Dropout(rate = 0.1))\n",
    "\n",
    "#second hidden layer\n",
    "classifier.add(Dense(units = 128, activation = 'relu'))\n",
    "\n",
    "#Dropout\n",
    "#classifier.add(Dropout(p = 0.2))\n",
    "\n",
    "#output layer\n",
    "classifier.add(Dense(units = 121, activation = 'softmax')) #We have 121 categories of plankton!!"
   ]
  },
  {
   "cell_type": "code",
   "execution_count": 14,
   "metadata": {
    "collapsed": true
   },
   "outputs": [],
   "source": [
    "# Compiling the CNN\n",
    "classifier.compile(optimizer = 'adam', loss = 'categorical_crossentropy', metrics = ['accuracy'])"
   ]
  },
  {
   "cell_type": "code",
   "execution_count": 15,
   "metadata": {},
   "outputs": [
    {
     "name": "stderr",
     "output_type": "stream",
     "text": [
      "C:\\Users\\movetech\\Anaconda2\\envs\\py35\\lib\\site-packages\\keras\\models.py:874: UserWarning: The `nb_epoch` argument in `fit` has been renamed `epochs`.\n",
      "  warnings.warn('The `nb_epoch` argument in `fit` '\n"
     ]
    },
    {
     "name": "stdout",
     "output_type": "stream",
     "text": [
      "Epoch 1/15\n",
      "19363/19363 [==============================] - 48s 2ms/step - loss: 3.6585 - acc: 0.1639\n",
      "Epoch 2/15\n",
      "19363/19363 [==============================] - 43s 2ms/step - loss: 2.6422 - acc: 0.3193\n",
      "Epoch 3/15\n",
      "19363/19363 [==============================] - 42s 2ms/step - loss: 2.3254 - acc: 0.3773\n",
      "Epoch 4/15\n",
      "19363/19363 [==============================] - 44s 2ms/step - loss: 2.1541 - acc: 0.4099: 0s - loss: 2.1566 - acc:\n",
      "Epoch 5/15\n",
      "19363/19363 [==============================] - 54s 3ms/step - loss: 2.0127 - acc: 0.4416\n",
      "Epoch 6/15\n",
      "19363/19363 [==============================] - 45s 2ms/step - loss: 1.9156 - acc: 0.4591\n",
      "Epoch 7/15\n",
      "19363/19363 [==============================] - 42s 2ms/step - loss: 1.8262 - acc: 0.4875: 1s - loss: 1\n",
      "Epoch 8/15\n",
      "19363/19363 [==============================] - 41s 2ms/step - loss: 1.7659 - acc: 0.4928\n",
      "Epoch 9/15\n",
      "19363/19363 [==============================] - 42s 2ms/step - loss: 1.7069 - acc: 0.5112\n",
      "Epoch 10/15\n",
      "19363/19363 [==============================] - 42s 2ms/step - loss: 1.6561 - acc: 0.5217\n",
      "Epoch 11/15\n",
      "19363/19363 [==============================] - 38s 2ms/step - loss: 1.5934 - acc: 0.5345\n",
      "Epoch 12/15\n",
      "19363/19363 [==============================] - 43s 2ms/step - loss: 1.5500 - acc: 0.5459\n",
      "Epoch 13/15\n",
      "19363/19363 [==============================] - 42s 2ms/step - loss: 1.5085 - acc: 0.5561\n",
      "Epoch 14/15\n",
      "19363/19363 [==============================] - 42s 2ms/step - loss: 1.4708 - acc: 0.5684\n",
      "Epoch 15/15\n",
      "19363/19363 [==============================] - 42s 2ms/step - loss: 1.4345 - acc: 0.5726\n"
     ]
    },
    {
     "data": {
      "text/plain": [
       "<keras.callbacks.History at 0x187d52a09e8>"
      ]
     },
     "execution_count": 15,
     "metadata": {},
     "output_type": "execute_result"
    }
   ],
   "source": [
    "# fit model on training data\n",
    "classifier.fit(x_train, x_val, batch_size=50, nb_epoch=15, verbose=1)"
   ]
  },
  {
   "cell_type": "code",
   "execution_count": 16,
   "metadata": {
    "collapsed": true
   },
   "outputs": [],
   "source": [
    "score = classifier.evaluate(y_train, y_val, verbose=0)"
   ]
  },
  {
   "cell_type": "code",
   "execution_count": 17,
   "metadata": {},
   "outputs": [
    {
     "data": {
      "text/plain": [
       "[1.6067611749840531, 0.55009295603776365]"
      ]
     },
     "execution_count": 17,
     "metadata": {},
     "output_type": "execute_result"
    }
   ],
   "source": [
    "score"
   ]
  },
  {
   "cell_type": "markdown",
   "metadata": {},
   "source": [
    "<h1>Save Model</h1>"
   ]
  },
  {
   "cell_type": "code",
   "execution_count": 18,
   "metadata": {},
   "outputs": [
    {
     "name": "stdout",
     "output_type": "stream",
     "text": [
      "Saved model to disk\n"
     ]
    }
   ],
   "source": [
    "from keras.models import model_from_json\n",
    "\n",
    "# serialize model to JSON\n",
    "best_model_classification_json = classifier.to_json()\n",
    "with open(\"best_model_3.json\", \"w\") as json_file:\n",
    "    json_file.write(best_model_classification_json)\n",
    "# serialize weights to HDF5\n",
    "classifier.save_weights(\"model_best.h5\")\n",
    "print(\"Saved model to disk\")"
   ]
  },
  {
   "cell_type": "markdown",
   "metadata": {},
   "source": [
    "<h1>Load Model</h1>"
   ]
  },
  {
   "cell_type": "code",
   "execution_count": 12,
   "metadata": {},
   "outputs": [
    {
     "name": "stdout",
     "output_type": "stream",
     "text": [
      "Loaded model from disk\n"
     ]
    }
   ],
   "source": [
    "from keras.models import model_from_json\n",
    "\n",
    "# load json and create model\n",
    "json_file = open('best_model_3.json', 'r')\n",
    "loaded_model_json = json_file.read()\n",
    "json_file.close()\n",
    "classifier = model_from_json(loaded_model_json)\n",
    "# load weights into new model\n",
    "classifier.load_weights(\"model_best.h5\")\n",
    "print(\"Loaded model from disk\")"
   ]
  },
  {
   "cell_type": "markdown",
   "metadata": {},
   "source": [
    "<h1>Prediction - First Approach</h1>"
   ]
  },
  {
   "cell_type": "code",
   "execution_count": 13,
   "metadata": {
    "collapsed": true
   },
   "outputs": [],
   "source": [
    "# read in data\n",
    "test_df = pd.read_csv('./sample.csv')\n",
    "test_images_paths = ['./test_images/' + p for p in test_df['image']]\n",
    "test_images_names = [p for p in test_df['image']]"
   ]
  },
  {
   "cell_type": "code",
   "execution_count": 18,
   "metadata": {},
   "outputs": [
    {
     "data": {
      "text/plain": [
       "(6132, 32, 32, 1)"
      ]
     },
     "execution_count": 18,
     "metadata": {},
     "output_type": "execute_result"
    }
   ],
   "source": [
    "# create image matrix\n",
    "test_images = (load_img(p, target_size=(32, 32)) for p in test_images_paths)\n",
    "test_images = [img_to_array(img)[:, :, [0]] for img in test_images]\n",
    "test_images = np.array(test_images)\n",
    "test_images.shape"
   ]
  },
  {
   "cell_type": "code",
   "execution_count": 22,
   "metadata": {},
   "outputs": [],
   "source": [
    "# normalize image data\n",
    "test_images = test_images.astype('float32')\n",
    "test_images /= 255"
   ]
  },
  {
   "cell_type": "code",
   "execution_count": 48,
   "metadata": {
    "collapsed": true
   },
   "outputs": [],
   "source": [
    "result = classifier.predict(test_images)"
   ]
  },
  {
   "cell_type": "code",
   "execution_count": 50,
   "metadata": {
    "collapsed": true
   },
   "outputs": [],
   "source": [
    "labels = []\n",
    "\n",
    "for count, i in enumerate(result):\n",
    "    labels.append(np.argmax(result[count]))"
   ]
  },
  {
   "cell_type": "code",
   "execution_count": 54,
   "metadata": {},
   "outputs": [],
   "source": [
    "from collections import OrderedDict\n",
    "\n",
    "#Create Final csv for the competition\n",
    "csv_list =  pd.DataFrame( OrderedDict( { 'image': pd.Series(test_images_names), 'class': pd.Series(labels) } ) )\n",
    "csv_list.to_csv('sample1.csv',index=False)"
   ]
  },
  {
   "cell_type": "code",
   "execution_count": 64,
   "metadata": {
    "collapsed": true
   },
   "outputs": [],
   "source": [
    "results1 = pd.read_csv('./sample1.csv')"
   ]
  },
  {
   "cell_type": "markdown",
   "metadata": {},
   "source": [
    "<h1>Prediction - Second Approach </h1>"
   ]
  },
  {
   "cell_type": "code",
   "execution_count": 59,
   "metadata": {
    "collapsed": true
   },
   "outputs": [],
   "source": [
    "import os\n",
    "import numpy as np\n",
    "from keras.preprocessing import image\n",
    "from collections import OrderedDict\n",
    "\n",
    "def find_category(path):\n",
    "    \n",
    "    test_image = image.load_img(path, target_size = (32, 32),grayscale = True)\n",
    "    test_image = image.img_to_array(test_image)\n",
    "  \n",
    "    test_image = np.expand_dims(test_image, axis = 0)\n",
    "    result = classifier.predict(test_image)\n",
    "    \n",
    "    #training_set.class_indices\n",
    "    \n",
    "    \n",
    "    category = int(np.where(result[0]!=0)[0][0])\n",
    "    return category\n",
    "    \n",
    "\n",
    "images = []\n",
    "categories = []\n",
    "path = 'test_images/'\n",
    "\n",
    "for count,i in enumerate(os.listdir(path)):\n",
    "    \n",
    "    images.append(str(i)) #save image name\n",
    "    \n",
    "    image_path = path+str(i)\n",
    "\n",
    "    category = find_category(image_path)\n",
    "    \n",
    "    categories.append(category) #saves the category of the image"
   ]
  },
  {
   "cell_type": "code",
   "execution_count": 60,
   "metadata": {
    "collapsed": true
   },
   "outputs": [],
   "source": [
    "images = []\n",
    "categories = []\n",
    "path = 'test_images/'\n",
    "\n",
    "for count,i in enumerate(os.listdir(path)):\n",
    "    \n",
    "    images.append(str(i)) #save image name\n",
    "    \n",
    "    image_path = path+str(i)\n",
    "\n",
    "    category = find_category(image_path)\n",
    "    \n",
    "    categories.append(category) #saves the category of the image"
   ]
  },
  {
   "cell_type": "code",
   "execution_count": 61,
   "metadata": {
    "collapsed": true
   },
   "outputs": [],
   "source": [
    "#Create Final csv for the competition\n",
    "csv_list =  pd.DataFrame( OrderedDict( { 'image': pd.Series(images), 'class': pd.Series(categories) } ) )\n",
    "csv_list.to_csv('sample2.csv',index=False)"
   ]
  },
  {
   "cell_type": "code",
   "execution_count": 65,
   "metadata": {
    "collapsed": true
   },
   "outputs": [],
   "source": [
    "results2 = pd.read_csv('./sample2.csv')"
   ]
  },
  {
   "cell_type": "code",
   "execution_count": 72,
   "metadata": {},
   "outputs": [],
   "source": [
    "comparison = results1.merge(results2, on='image')"
   ]
  },
  {
   "cell_type": "code",
   "execution_count": 81,
   "metadata": {},
   "outputs": [
    {
     "name": "stdout",
     "output_type": "stream",
     "text": [
      "Number of different results: 5738\n"
     ]
    }
   ],
   "source": [
    "print('Number of different results: ' + str(len(comparison[comparison['class_x'] != comparison['class_y']])))ka"
   ]
  },
  {
   "cell_type": "code",
   "execution_count": null,
   "metadata": {
    "collapsed": true
   },
   "outputs": [],
   "source": []
  }
 ],
 "metadata": {
  "kernelspec": {
   "display_name": "Python [conda env:Tensor]",
   "language": "python",
   "name": "conda-env-Tensor-py"
  },
  "language_info": {
   "codemirror_mode": {
    "name": "ipython",
    "version": 3
   },
   "file_extension": ".py",
   "mimetype": "text/x-python",
   "name": "python",
   "nbconvert_exporter": "python",
   "pygments_lexer": "ipython3",
   "version": "3.5.4"
  }
 },
 "nbformat": 4,
 "nbformat_minor": 2
}
