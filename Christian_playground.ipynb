{
 "cells": [
  {
   "cell_type": "code",
   "execution_count": 2,
   "metadata": {},
   "outputs": [
    {
     "name": "stderr",
     "output_type": "stream",
     "text": [
      "Using TensorFlow backend.\n"
     ]
    }
   ],
   "source": [
    "import numpy as np \n",
    "import pandas as pd\n",
    "import os, zipfile\n",
    "\n",
    "import matplotlib.pyplot as plt\n",
    "import matplotlib.image as mpimg\n",
    "from PIL import Image\n",
    "\n",
    "from keras.preprocessing.image import load_img, img_to_array\n",
    "from keras.utils.np_utils import to_categorical\n",
    "from sklearn.model_selection import train_test_split"
   ]
  },
  {
   "cell_type": "markdown",
   "metadata": {},
   "source": [
    "<h1>Preprocessing</h1>"
   ]
  },
  {
   "cell_type": "code",
   "execution_count": 3,
   "metadata": {},
   "outputs": [],
   "source": [
    "# read in data\n",
    "train_df = pd.read_csv('./train_onelabel.csv')\n",
    "train_images_paths = ['./train_images/' + p for p in train_df.image]\n",
    "train_labels = train_df['class'].values"
   ]
  },
  {
   "cell_type": "code",
   "execution_count": 4,
   "metadata": {},
   "outputs": [
    {
     "data": {
      "text/plain": [
       "(24204, 32, 32, 1)"
      ]
     },
     "execution_count": 4,
     "metadata": {},
     "output_type": "execute_result"
    }
   ],
   "source": [
    "# create image matrix\n",
    "train_images = (load_img(p, target_size=(32, 32)) for p in train_images_paths)\n",
    "train_images = [img_to_array(img)[:, :, [0]] for img in train_images]\n",
    "train_images = np.array(train_images)\n",
    "train_images.shape"
   ]
  },
  {
   "cell_type": "code",
   "execution_count": 5,
   "metadata": {
    "collapsed": true
   },
   "outputs": [],
   "source": [
    "# preprocessing of labels\n",
    "classes = len(np.unique(train_labels))\n",
    "train_labels = to_categorical(train_labels, classes)"
   ]
  },
  {
   "cell_type": "code",
   "execution_count": 6,
   "metadata": {
    "collapsed": true
   },
   "outputs": [],
   "source": [
    "# split data into test and train set\n",
    "x_train, x_val, y_train,  y_val = train_test_split(train_images, train_labels, test_size=0.2)"
   ]
  },
  {
   "cell_type": "code",
   "execution_count": 7,
   "metadata": {
    "collapsed": true
   },
   "outputs": [],
   "source": [
    "# normalize image data\n",
    "\n",
    "x_train = x_train.astype('float32')\n",
    "x_val = x_val.astype('float32')\n",
    "x_train /= 255\n",
    "x_val /= 255"
   ]
  },
  {
   "cell_type": "markdown",
   "metadata": {},
   "source": [
    "<h1>Model</h1>"
   ]
  },
  {
   "cell_type": "code",
   "execution_count": 8,
   "metadata": {
    "collapsed": true
   },
   "outputs": [],
   "source": [
    "# Importing the Keras libraries and packages\n",
    "from keras.models import Sequential\n",
    "from keras.layers import Conv2D\n",
    "from keras.layers import MaxPooling2D\n",
    "from keras.layers import Flatten\n",
    "from keras.layers import Dense\n",
    "from keras.layers import Dropout"
   ]
  },
  {
   "cell_type": "code",
   "execution_count": 9,
   "metadata": {
    "collapsed": true
   },
   "outputs": [],
   "source": [
    "# Initialising the CNN\n",
    "classifier = Sequential()"
   ]
  },
  {
   "cell_type": "code",
   "execution_count": 10,
   "metadata": {
    "collapsed": true
   },
   "outputs": [],
   "source": [
    "# Step 1 - Convolution ---TODO: see input specification\n",
    "classifier.add(Conv2D(64, (3, 3), input_shape = (32, 32,1),padding='same', activation = 'relu'))"
   ]
  },
  {
   "cell_type": "code",
   "execution_count": 11,
   "metadata": {
    "collapsed": true
   },
   "outputs": [],
   "source": [
    "# Step 2 - Pooling\n",
    "classifier.add(MaxPooling2D(pool_size = (2, 2)))"
   ]
  },
  {
   "cell_type": "code",
   "execution_count": 12,
   "metadata": {
    "collapsed": true
   },
   "outputs": [],
   "source": [
    "# Adding a second convolutional layer+pooling layer\n",
    "classifier.add(Conv2D(64, (3, 3), activation = 'relu', padding='same'))\n",
    "classifier.add(MaxPooling2D(pool_size = (2, 2)))"
   ]
  },
  {
   "cell_type": "code",
   "execution_count": 13,
   "metadata": {
    "collapsed": true
   },
   "outputs": [],
   "source": [
    "# Step 3 - Flattening\n",
    "classifier.add(Flatten())"
   ]
  },
  {
   "cell_type": "code",
   "execution_count": 14,
   "metadata": {
    "collapsed": true
   },
   "outputs": [],
   "source": [
    "#Step 4 - Create a fully connected neural network\n",
    "'''its good practise to pick a number of power of two-experimenting output_dim\n",
    "128 hidden nodes in hidden layers-by experimenting'''\n",
    " \n",
    "\n",
    "#output_dim = number of nodes in the hidden layer\n",
    "classifier.add(Dense(units= 256, activation = 'relu'))\n",
    "\n",
    "#Dropout (p was used in the old API, changed it to the new standard)\n",
    "classifier.add(Dropout(rate = 0.2))\n",
    "\n",
    "#second hidden layer\n",
    "classifier.add(Dense(units = 256, activation = 'relu'))\n",
    "\n",
    "#Dropout\n",
    "#classifier.add(Dropout(p = 0.2))\n",
    "\n",
    "#output layer\n",
    "classifier.add(Dense(units = 121, activation = 'softmax')) #We have 121 categories of plankton!!"
   ]
  },
  {
   "cell_type": "code",
   "execution_count": 15,
   "metadata": {
    "collapsed": true
   },
   "outputs": [],
   "source": [
    "# Compiling the CNN\n",
    "classifier.compile(optimizer = 'adam', loss = 'categorical_crossentropy', metrics = ['accuracy'])"
   ]
  },
  {
   "cell_type": "code",
   "execution_count": 16,
   "metadata": {},
   "outputs": [
    {
     "name": "stderr",
     "output_type": "stream",
     "text": [
      "C:\\Users\\movetech\\Anaconda2\\envs\\py35\\lib\\site-packages\\keras\\models.py:874: UserWarning: The `nb_epoch` argument in `fit` has been renamed `epochs`.\n",
      "  warnings.warn('The `nb_epoch` argument in `fit` '\n"
     ]
    },
    {
     "name": "stdout",
     "output_type": "stream",
     "text": [
      "Epoch 1/25\n",
      "19363/19363 [==============================] - 99s 5ms/step - loss: 3.5566 - acc: 0.1820\n",
      "Epoch 2/25\n",
      "19363/19363 [==============================] - 98s 5ms/step - loss: 2.5551 - acc: 0.3369\n",
      "Epoch 3/25\n",
      "19363/19363 [==============================] - 95s 5ms/step - loss: 2.2233 - acc: 0.3972\n",
      "Epoch 4/25\n",
      "19363/19363 [==============================] - 99s 5ms/step - loss: 2.0246 - acc: 0.4331\n",
      "Epoch 5/25\n",
      "19363/19363 [==============================] - 94s 5ms/step - loss: 1.9059 - acc: 0.4640\n",
      "Epoch 6/25\n",
      "19363/19363 [==============================] - 94s 5ms/step - loss: 1.7918 - acc: 0.4826\n",
      "Epoch 7/25\n",
      "19363/19363 [==============================] - 90s 5ms/step - loss: 1.7045 - acc: 0.5065\n",
      "Epoch 8/25\n",
      "19363/19363 [==============================] - 95s 5ms/step - loss: 1.6264 - acc: 0.5248\n",
      "Epoch 9/25\n",
      "19363/19363 [==============================] - 93s 5ms/step - loss: 1.5562 - acc: 0.5412\n",
      "Epoch 10/25\n",
      "19363/19363 [==============================] - 85s 4ms/step - loss: 1.4855 - acc: 0.5618\n",
      "Epoch 11/25\n",
      "19363/19363 [==============================] - 86s 4ms/step - loss: 1.4295 - acc: 0.5675\n",
      "Epoch 12/25\n",
      "19363/19363 [==============================] - 87s 5ms/step - loss: 1.3861 - acc: 0.5848\n",
      "Epoch 13/25\n",
      "19363/19363 [==============================] - 87s 4ms/step - loss: 1.3280 - acc: 0.5987\n",
      "Epoch 14/25\n",
      "19363/19363 [==============================] - 88s 5ms/step - loss: 1.2881 - acc: 0.6082\n",
      "Epoch 15/25\n",
      "19363/19363 [==============================] - 87s 4ms/step - loss: 1.2402 - acc: 0.6223\n",
      "Epoch 16/25\n",
      "19363/19363 [==============================] - 95s 5ms/step - loss: 1.2129 - acc: 0.6268\n",
      "Epoch 17/25\n",
      "19363/19363 [==============================] - 88s 5ms/step - loss: 1.1631 - acc: 0.6375\n",
      "Epoch 18/25\n",
      "19363/19363 [==============================] - 87s 4ms/step - loss: 1.1370 - acc: 0.6453\n",
      "Epoch 19/25\n",
      "19363/19363 [==============================] - 87s 4ms/step - loss: 1.1005 - acc: 0.6552\n",
      "Epoch 20/25\n",
      "19363/19363 [==============================] - 88s 5ms/step - loss: 1.0571 - acc: 0.6678\n",
      "Epoch 21/25\n",
      "19363/19363 [==============================] - 87s 4ms/step - loss: 1.0285 - acc: 0.6768\n",
      "Epoch 22/25\n",
      "19363/19363 [==============================] - 88s 5ms/step - loss: 0.9783 - acc: 0.6887\n",
      "Epoch 23/25\n",
      "19363/19363 [==============================] - 88s 5ms/step - loss: 0.9829 - acc: 0.6881\n",
      "Epoch 24/25\n",
      "19363/19363 [==============================] - 87s 5ms/step - loss: 0.9308 - acc: 0.6966\n",
      "Epoch 25/25\n",
      "19363/19363 [==============================] - 86s 4ms/step - loss: 0.9055 - acc: 0.7113\n"
     ]
    },
    {
     "data": {
      "text/plain": [
       "<keras.callbacks.History at 0x225c50c2470>"
      ]
     },
     "execution_count": 16,
     "metadata": {},
     "output_type": "execute_result"
    }
   ],
   "source": [
    "# fit model on training data\n",
    "classifier.fit(x_train, y_train, batch_size=80, nb_epoch=25, verbose=1)"
   ]
  },
  {
   "cell_type": "code",
   "execution_count": 17,
   "metadata": {
    "collapsed": true
   },
   "outputs": [],
   "source": [
    "score = classifier.evaluate(x_val, y_val, verbose=0)"
   ]
  },
  {
   "cell_type": "code",
   "execution_count": 18,
   "metadata": {},
   "outputs": [
    {
     "data": {
      "text/plain": [
       "[1.5041827794639218, 0.60173517871902782]"
      ]
     },
     "execution_count": 18,
     "metadata": {},
     "output_type": "execute_result"
    }
   ],
   "source": [
    "score"
   ]
  },
  {
   "cell_type": "code",
   "execution_count": 17,
   "metadata": {},
   "outputs": [
    {
     "data": {
      "text/plain": [
       "[1.6067611749840531, 0.55009295603776365]"
      ]
     },
     "execution_count": 17,
     "metadata": {},
     "output_type": "execute_result"
    }
   ],
   "source": [
    "score"
   ]
  },
  {
   "cell_type": "markdown",
   "metadata": {},
   "source": [
    "<h1>Save Model</h1>"
   ]
  },
  {
   "cell_type": "code",
   "execution_count": 18,
   "metadata": {},
   "outputs": [
    {
     "name": "stdout",
     "output_type": "stream",
     "text": [
      "Saved model to disk\n"
     ]
    }
   ],
   "source": [
    "from keras.models import model_from_json\n",
    "\n",
    "# serialize model to JSON\n",
    "best_model_classification_json = classifier.to_json()\n",
    "with open(\"best_model_4.json\", \"w\") as json_file:\n",
    "    json_file.write(best_model_classification_json)\n",
    "# serialize weights to HDF5\n",
    "classifier.save_weights(\"model_best.h5\")\n",
    "print(\"Saved model to disk\")"
   ]
  },
  {
   "cell_type": "markdown",
   "metadata": {},
   "source": [
    "<h1>Load Model</h1>"
   ]
  },
  {
   "cell_type": "code",
   "execution_count": 12,
   "metadata": {},
   "outputs": [
    {
     "name": "stdout",
     "output_type": "stream",
     "text": [
      "Loaded model from disk\n"
     ]
    }
   ],
   "source": [
    "from keras.models import model_from_json\n",
    "\n",
    "# load json and create model\n",
    "json_file = open('best_model_3.json', 'r')\n",
    "loaded_model_json = json_file.read()\n",
    "json_file.close()\n",
    "classifier = model_from_json(loaded_model_json)\n",
    "# load weights into new model\n",
    "classifier.load_weights(\"model_best.h5\")\n",
    "print(\"Loaded model from disk\")"
   ]
  },
  {
   "cell_type": "markdown",
   "metadata": {},
   "source": [
    "<h1>Prediction - First Approach</h1>"
   ]
  },
  {
   "cell_type": "code",
   "execution_count": 21,
   "metadata": {
    "collapsed": true
   },
   "outputs": [],
   "source": [
    "# read in data\n",
    "test_df = pd.read_csv('./sample.csv')\n",
    "test_images_paths = ['./test_images/' + p for p in test_df['image']]\n",
    "test_images_names = [p for p in test_df['image']]"
   ]
  },
  {
   "cell_type": "code",
   "execution_count": 22,
   "metadata": {},
   "outputs": [
    {
     "data": {
      "text/plain": [
       "(6132, 32, 32, 1)"
      ]
     },
     "execution_count": 22,
     "metadata": {},
     "output_type": "execute_result"
    }
   ],
   "source": [
    "# create image matrix\n",
    "test_images = (load_img(p, target_size=(32, 32)) for p in test_images_paths)\n",
    "test_images = [img_to_array(img)[:, :, [0]] for img in test_images]\n",
    "test_images = np.array(test_images)\n",
    "test_images.shape"
   ]
  },
  {
   "cell_type": "code",
   "execution_count": 23,
   "metadata": {
    "collapsed": true
   },
   "outputs": [],
   "source": [
    "# normalize image data\n",
    "test_images = test_images.astype('float32')\n",
    "test_images /= 255"
   ]
  },
  {
   "cell_type": "code",
   "execution_count": 24,
   "metadata": {
    "collapsed": true
   },
   "outputs": [],
   "source": [
    "result = classifier.predict(test_images)"
   ]
  },
  {
   "cell_type": "code",
   "execution_count": 25,
   "metadata": {
    "collapsed": true
   },
   "outputs": [],
   "source": [
    "labels = []\n",
    "\n",
    "for count, i in enumerate(result):\n",
    "    labels.append(np.argmax(result[count]))"
   ]
  },
  {
   "cell_type": "code",
   "execution_count": 41,
   "metadata": {
    "collapsed": true
   },
   "outputs": [],
   "source": [
    "from collections import OrderedDict\n",
    "\n",
    "#Create Final csv for the competition\n",
    "csv_list =  pd.DataFrame( OrderedDict( { 'image': pd.Series(test_images_names), 'class': pd.Series(labels)} ) )\n",
    "csv_list.to_csv('sample4.csv',index=False)"
   ]
  },
  {
   "cell_type": "code",
   "execution_count": 42,
   "metadata": {
    "collapsed": true
   },
   "outputs": [],
   "source": [
    "results1 = pd.read_csv('./sample4.csv')"
   ]
  },
  {
   "cell_type": "code",
   "execution_count": 43,
   "metadata": {},
   "outputs": [
    {
     "data": {
      "text/html": [
       "<div>\n",
       "<style scoped>\n",
       "    .dataframe tbody tr th:only-of-type {\n",
       "        vertical-align: middle;\n",
       "    }\n",
       "\n",
       "    .dataframe tbody tr th {\n",
       "        vertical-align: top;\n",
       "    }\n",
       "\n",
       "    .dataframe thead th {\n",
       "        text-align: right;\n",
       "    }\n",
       "</style>\n",
       "<table border=\"1\" class=\"dataframe\">\n",
       "  <thead>\n",
       "    <tr style=\"text-align: right;\">\n",
       "      <th></th>\n",
       "      <th>class</th>\n",
       "      <th>image</th>\n",
       "    </tr>\n",
       "  </thead>\n",
       "  <tbody>\n",
       "    <tr>\n",
       "      <th>0</th>\n",
       "      <td>77</td>\n",
       "      <td>90715.jpg</td>\n",
       "    </tr>\n",
       "    <tr>\n",
       "      <th>1</th>\n",
       "      <td>117</td>\n",
       "      <td>159631.jpg</td>\n",
       "    </tr>\n",
       "    <tr>\n",
       "      <th>2</th>\n",
       "      <td>34</td>\n",
       "      <td>4294.jpg</td>\n",
       "    </tr>\n",
       "    <tr>\n",
       "      <th>3</th>\n",
       "      <td>3</td>\n",
       "      <td>56548.jpg</td>\n",
       "    </tr>\n",
       "    <tr>\n",
       "      <th>4</th>\n",
       "      <td>13</td>\n",
       "      <td>120979.jpg</td>\n",
       "    </tr>\n",
       "    <tr>\n",
       "      <th>5</th>\n",
       "      <td>101</td>\n",
       "      <td>139460.jpg</td>\n",
       "    </tr>\n",
       "    <tr>\n",
       "      <th>6</th>\n",
       "      <td>0</td>\n",
       "      <td>78510.jpg</td>\n",
       "    </tr>\n",
       "    <tr>\n",
       "      <th>7</th>\n",
       "      <td>42</td>\n",
       "      <td>102841.jpg</td>\n",
       "    </tr>\n",
       "    <tr>\n",
       "      <th>8</th>\n",
       "      <td>31</td>\n",
       "      <td>84208.jpg</td>\n",
       "    </tr>\n",
       "    <tr>\n",
       "      <th>9</th>\n",
       "      <td>53</td>\n",
       "      <td>9591.jpg</td>\n",
       "    </tr>\n",
       "    <tr>\n",
       "      <th>10</th>\n",
       "      <td>12</td>\n",
       "      <td>117254.jpg</td>\n",
       "    </tr>\n",
       "    <tr>\n",
       "      <th>11</th>\n",
       "      <td>80</td>\n",
       "      <td>152598.jpg</td>\n",
       "    </tr>\n",
       "    <tr>\n",
       "      <th>12</th>\n",
       "      <td>61</td>\n",
       "      <td>149049.jpg</td>\n",
       "    </tr>\n",
       "    <tr>\n",
       "      <th>13</th>\n",
       "      <td>42</td>\n",
       "      <td>146084.jpg</td>\n",
       "    </tr>\n",
       "    <tr>\n",
       "      <th>14</th>\n",
       "      <td>70</td>\n",
       "      <td>37310.jpg</td>\n",
       "    </tr>\n",
       "    <tr>\n",
       "      <th>15</th>\n",
       "      <td>94</td>\n",
       "      <td>152812.jpg</td>\n",
       "    </tr>\n",
       "    <tr>\n",
       "      <th>16</th>\n",
       "      <td>31</td>\n",
       "      <td>71417.jpg</td>\n",
       "    </tr>\n",
       "    <tr>\n",
       "      <th>17</th>\n",
       "      <td>119</td>\n",
       "      <td>63562.jpg</td>\n",
       "    </tr>\n",
       "    <tr>\n",
       "      <th>18</th>\n",
       "      <td>10</td>\n",
       "      <td>20690.jpg</td>\n",
       "    </tr>\n",
       "    <tr>\n",
       "      <th>19</th>\n",
       "      <td>31</td>\n",
       "      <td>106297.jpg</td>\n",
       "    </tr>\n",
       "    <tr>\n",
       "      <th>20</th>\n",
       "      <td>53</td>\n",
       "      <td>85794.jpg</td>\n",
       "    </tr>\n",
       "    <tr>\n",
       "      <th>21</th>\n",
       "      <td>92</td>\n",
       "      <td>14572.jpg</td>\n",
       "    </tr>\n",
       "    <tr>\n",
       "      <th>22</th>\n",
       "      <td>56</td>\n",
       "      <td>79727.jpg</td>\n",
       "    </tr>\n",
       "    <tr>\n",
       "      <th>23</th>\n",
       "      <td>97</td>\n",
       "      <td>68132.jpg</td>\n",
       "    </tr>\n",
       "    <tr>\n",
       "      <th>24</th>\n",
       "      <td>45</td>\n",
       "      <td>156128.jpg</td>\n",
       "    </tr>\n",
       "    <tr>\n",
       "      <th>25</th>\n",
       "      <td>92</td>\n",
       "      <td>282.jpg</td>\n",
       "    </tr>\n",
       "    <tr>\n",
       "      <th>26</th>\n",
       "      <td>8</td>\n",
       "      <td>111105.jpg</td>\n",
       "    </tr>\n",
       "    <tr>\n",
       "      <th>27</th>\n",
       "      <td>12</td>\n",
       "      <td>117665.jpg</td>\n",
       "    </tr>\n",
       "    <tr>\n",
       "      <th>28</th>\n",
       "      <td>0</td>\n",
       "      <td>51984.jpg</td>\n",
       "    </tr>\n",
       "    <tr>\n",
       "      <th>29</th>\n",
       "      <td>56</td>\n",
       "      <td>154920.jpg</td>\n",
       "    </tr>\n",
       "    <tr>\n",
       "      <th>...</th>\n",
       "      <td>...</td>\n",
       "      <td>...</td>\n",
       "    </tr>\n",
       "    <tr>\n",
       "      <th>6102</th>\n",
       "      <td>61</td>\n",
       "      <td>33439.jpg</td>\n",
       "    </tr>\n",
       "    <tr>\n",
       "      <th>6103</th>\n",
       "      <td>89</td>\n",
       "      <td>97765.jpg</td>\n",
       "    </tr>\n",
       "    <tr>\n",
       "      <th>6104</th>\n",
       "      <td>21</td>\n",
       "      <td>96829.jpg</td>\n",
       "    </tr>\n",
       "    <tr>\n",
       "      <th>6105</th>\n",
       "      <td>52</td>\n",
       "      <td>115273.jpg</td>\n",
       "    </tr>\n",
       "    <tr>\n",
       "      <th>6106</th>\n",
       "      <td>24</td>\n",
       "      <td>76597.jpg</td>\n",
       "    </tr>\n",
       "    <tr>\n",
       "      <th>6107</th>\n",
       "      <td>21</td>\n",
       "      <td>32587.jpg</td>\n",
       "    </tr>\n",
       "    <tr>\n",
       "      <th>6108</th>\n",
       "      <td>53</td>\n",
       "      <td>62414.jpg</td>\n",
       "    </tr>\n",
       "    <tr>\n",
       "      <th>6109</th>\n",
       "      <td>119</td>\n",
       "      <td>116335.jpg</td>\n",
       "    </tr>\n",
       "    <tr>\n",
       "      <th>6110</th>\n",
       "      <td>119</td>\n",
       "      <td>99871.jpg</td>\n",
       "    </tr>\n",
       "    <tr>\n",
       "      <th>6111</th>\n",
       "      <td>34</td>\n",
       "      <td>119616.jpg</td>\n",
       "    </tr>\n",
       "    <tr>\n",
       "      <th>6112</th>\n",
       "      <td>62</td>\n",
       "      <td>65110.jpg</td>\n",
       "    </tr>\n",
       "    <tr>\n",
       "      <th>6113</th>\n",
       "      <td>45</td>\n",
       "      <td>153443.jpg</td>\n",
       "    </tr>\n",
       "    <tr>\n",
       "      <th>6114</th>\n",
       "      <td>8</td>\n",
       "      <td>58590.jpg</td>\n",
       "    </tr>\n",
       "    <tr>\n",
       "      <th>6115</th>\n",
       "      <td>119</td>\n",
       "      <td>47860.jpg</td>\n",
       "    </tr>\n",
       "    <tr>\n",
       "      <th>6116</th>\n",
       "      <td>119</td>\n",
       "      <td>151982.jpg</td>\n",
       "    </tr>\n",
       "    <tr>\n",
       "      <th>6117</th>\n",
       "      <td>45</td>\n",
       "      <td>61570.jpg</td>\n",
       "    </tr>\n",
       "    <tr>\n",
       "      <th>6118</th>\n",
       "      <td>58</td>\n",
       "      <td>20508.jpg</td>\n",
       "    </tr>\n",
       "    <tr>\n",
       "      <th>6119</th>\n",
       "      <td>1</td>\n",
       "      <td>151360.jpg</td>\n",
       "    </tr>\n",
       "    <tr>\n",
       "      <th>6120</th>\n",
       "      <td>45</td>\n",
       "      <td>67333.jpg</td>\n",
       "    </tr>\n",
       "    <tr>\n",
       "      <th>6121</th>\n",
       "      <td>49</td>\n",
       "      <td>132828.jpg</td>\n",
       "    </tr>\n",
       "    <tr>\n",
       "      <th>6122</th>\n",
       "      <td>12</td>\n",
       "      <td>55604.jpg</td>\n",
       "    </tr>\n",
       "    <tr>\n",
       "      <th>6123</th>\n",
       "      <td>53</td>\n",
       "      <td>125366.jpg</td>\n",
       "    </tr>\n",
       "    <tr>\n",
       "      <th>6124</th>\n",
       "      <td>53</td>\n",
       "      <td>103014.jpg</td>\n",
       "    </tr>\n",
       "    <tr>\n",
       "      <th>6125</th>\n",
       "      <td>29</td>\n",
       "      <td>138964.jpg</td>\n",
       "    </tr>\n",
       "    <tr>\n",
       "      <th>6126</th>\n",
       "      <td>119</td>\n",
       "      <td>78721.jpg</td>\n",
       "    </tr>\n",
       "    <tr>\n",
       "      <th>6127</th>\n",
       "      <td>21</td>\n",
       "      <td>41950.jpg</td>\n",
       "    </tr>\n",
       "    <tr>\n",
       "      <th>6128</th>\n",
       "      <td>45</td>\n",
       "      <td>31439.jpg</td>\n",
       "    </tr>\n",
       "    <tr>\n",
       "      <th>6129</th>\n",
       "      <td>34</td>\n",
       "      <td>151022.jpg</td>\n",
       "    </tr>\n",
       "    <tr>\n",
       "      <th>6130</th>\n",
       "      <td>34</td>\n",
       "      <td>30324.jpg</td>\n",
       "    </tr>\n",
       "    <tr>\n",
       "      <th>6131</th>\n",
       "      <td>58</td>\n",
       "      <td>158893.jpg</td>\n",
       "    </tr>\n",
       "  </tbody>\n",
       "</table>\n",
       "<p>6132 rows × 2 columns</p>\n",
       "</div>"
      ],
      "text/plain": [
       "      class       image\n",
       "0        77   90715.jpg\n",
       "1       117  159631.jpg\n",
       "2        34    4294.jpg\n",
       "3         3   56548.jpg\n",
       "4        13  120979.jpg\n",
       "5       101  139460.jpg\n",
       "6         0   78510.jpg\n",
       "7        42  102841.jpg\n",
       "8        31   84208.jpg\n",
       "9        53    9591.jpg\n",
       "10       12  117254.jpg\n",
       "11       80  152598.jpg\n",
       "12       61  149049.jpg\n",
       "13       42  146084.jpg\n",
       "14       70   37310.jpg\n",
       "15       94  152812.jpg\n",
       "16       31   71417.jpg\n",
       "17      119   63562.jpg\n",
       "18       10   20690.jpg\n",
       "19       31  106297.jpg\n",
       "20       53   85794.jpg\n",
       "21       92   14572.jpg\n",
       "22       56   79727.jpg\n",
       "23       97   68132.jpg\n",
       "24       45  156128.jpg\n",
       "25       92     282.jpg\n",
       "26        8  111105.jpg\n",
       "27       12  117665.jpg\n",
       "28        0   51984.jpg\n",
       "29       56  154920.jpg\n",
       "...     ...         ...\n",
       "6102     61   33439.jpg\n",
       "6103     89   97765.jpg\n",
       "6104     21   96829.jpg\n",
       "6105     52  115273.jpg\n",
       "6106     24   76597.jpg\n",
       "6107     21   32587.jpg\n",
       "6108     53   62414.jpg\n",
       "6109    119  116335.jpg\n",
       "6110    119   99871.jpg\n",
       "6111     34  119616.jpg\n",
       "6112     62   65110.jpg\n",
       "6113     45  153443.jpg\n",
       "6114      8   58590.jpg\n",
       "6115    119   47860.jpg\n",
       "6116    119  151982.jpg\n",
       "6117     45   61570.jpg\n",
       "6118     58   20508.jpg\n",
       "6119      1  151360.jpg\n",
       "6120     45   67333.jpg\n",
       "6121     49  132828.jpg\n",
       "6122     12   55604.jpg\n",
       "6123     53  125366.jpg\n",
       "6124     53  103014.jpg\n",
       "6125     29  138964.jpg\n",
       "6126    119   78721.jpg\n",
       "6127     21   41950.jpg\n",
       "6128     45   31439.jpg\n",
       "6129     34  151022.jpg\n",
       "6130     34   30324.jpg\n",
       "6131     58  158893.jpg\n",
       "\n",
       "[6132 rows x 2 columns]"
      ]
     },
     "execution_count": 43,
     "metadata": {},
     "output_type": "execute_result"
    }
   ],
   "source": [
    "results1"
   ]
  },
  {
   "cell_type": "code",
   "execution_count": null,
   "metadata": {
    "collapsed": true
   },
   "outputs": [],
   "source": []
  }
 ],
 "metadata": {
  "kernelspec": {
   "display_name": "py35",
   "language": "python",
   "name": "py35"
  },
  "language_info": {
   "codemirror_mode": {
    "name": "ipython",
    "version": 3
   },
   "file_extension": ".py",
   "mimetype": "text/x-python",
   "name": "python",
   "nbconvert_exporter": "python",
   "pygments_lexer": "ipython3",
   "version": "3.5.4"
  }
 },
 "nbformat": 4,
 "nbformat_minor": 2
}
