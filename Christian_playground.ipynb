{
 "cells": [
  {
   "cell_type": "code",
   "execution_count": 125,
   "metadata": {},
   "outputs": [],
   "source": [
    "import numpy as np \n",
    "import pandas as pd\n",
    "import os, zipfile\n",
    "\n",
    "import matplotlib.pyplot as plt\n",
    "import matplotlib.image as mpimg\n",
    "from PIL import Image\n",
    "\n",
    "from keras.utils import np_utils\n",
    "from sklearn.utils import shuffle"
   ]
  },
  {
   "cell_type": "code",
   "execution_count": 3,
   "metadata": {
    "collapsed": true
   },
   "outputs": [],
   "source": [
    "path1 = 'C:/Users/Movetech/Desktop/Uni/AML/Kaggle/ocean_pirates/train_images' # path of folder of images    \n",
    "path2 = 'C:/Users/Movetech/Desktop/Uni/AML/Kaggle/ocean_pirates/train_images_edited' # path of folder to save images"
   ]
  },
  {
   "cell_type": "code",
   "execution_count": 15,
   "metadata": {},
   "outputs": [
    {
     "name": "stdout",
     "output_type": "stream",
     "text": [
      "Images and labels have the same length: True\n"
     ]
    }
   ],
   "source": [
    "listing = os.listdir(path1)\n",
    "df_labels = pd.read_csv('train_onelabel.csv')\n",
    "\n",
    "\n",
    "print('Images and labels have the same length: ' + str(len(listing)==len(df_labels)))"
   ]
  },
  {
   "cell_type": "code",
   "execution_count": 30,
   "metadata": {},
   "outputs": [],
   "source": [
    "# split df into images and labels\n",
    "images = df_labels['image']\n",
    "labels = df_labels['class']"
   ]
  },
  {
   "cell_type": "code",
   "execution_count": 31,
   "metadata": {
    "collapsed": true
   },
   "outputs": [],
   "source": [
    "im1 = Image.open('train_images/'+ df_labels.image[0]) # open one image to get size\n",
    "im2 = Image.open('train_images/'+ df_labels.image[1]) # open one image to get size"
   ]
  },
  {
   "cell_type": "code",
   "execution_count": 87,
   "metadata": {},
   "outputs": [],
   "source": [
    "# input image dimensions\n",
    "img_rows, img_cols = 32, 32\n",
    "\n",
    "# number of channels\n",
    "img_channels = 1\n",
    "\n",
    "# number of images\n",
    "img_total = len(df_labels)"
   ]
  },
  {
   "cell_type": "code",
   "execution_count": 39,
   "metadata": {
    "collapsed": true
   },
   "outputs": [],
   "source": [
    "# change image dimension and save them\n",
    "for file in listing:\n",
    "    im = Image.open(path1 + '\\\\' + file)   \n",
    "    img = im.resize((img_rows,img_cols))         \n",
    "    img.save(path2 +'\\\\' +  file, \"JPEG\")"
   ]
  },
  {
   "cell_type": "code",
   "execution_count": 43,
   "metadata": {},
   "outputs": [],
   "source": [
    "# just for testing\n",
    "\n",
    "im1_edited = Image.open('train_images_edited/'+ df_labels.image[0]) # open one image to get size\n",
    "im2_edited = Image.open('train_images_edited/'+ df_labels.image[1]) # open one image to get size"
   ]
  },
  {
   "cell_type": "code",
   "execution_count": 132,
   "metadata": {},
   "outputs": [],
   "source": [
    "# create image matrix\n",
    "\n",
    "image_matrix = np.empty((img_total, img_rows, img_cols))\n",
    "\n",
    "for counter, image in enumerate(images):\n",
    "    image_matrix[counter] = np.array(Image.open('train_images_edited/' + image))"
   ]
  },
  {
   "cell_type": "code",
   "execution_count": 133,
   "metadata": {},
   "outputs": [],
   "source": [
    "# final preprocessing steps for images\n",
    "\n",
    "image_matrix = image_matrix.astype('float32')\n",
    "image_matrix /= 255\n",
    "\n",
    "X_train = image_matrix"
   ]
  },
  {
   "cell_type": "code",
   "execution_count": 134,
   "metadata": {},
   "outputs": [],
   "source": [
    "# preprocessing for labels\n",
    "\n",
    "classes = len(df_labels.groupby('class'))\n",
    "Y_train = np_utils.to_categorical(labels, classes)"
   ]
  },
  {
   "cell_type": "code",
   "execution_count": 135,
   "metadata": {},
   "outputs": [],
   "source": [
    "# shuffle data\n",
    "X_train_shuffled, Y_train_shuffled = shuffle(X_train, Y_train, random_state=2)"
   ]
  },
  {
   "cell_type": "code",
   "execution_count": null,
   "metadata": {
    "collapsed": true
   },
   "outputs": [],
   "source": []
  }
 ],
 "metadata": {
  "kernelspec": {
   "display_name": "py35",
   "language": "python",
   "name": "py35"
  },
  "language_info": {
   "codemirror_mode": {
    "name": "ipython",
    "version": 3
   },
   "file_extension": ".py",
   "mimetype": "text/x-python",
   "name": "python",
   "nbconvert_exporter": "python",
   "pygments_lexer": "ipython3",
   "version": "3.5.4"
  }
 },
 "nbformat": 4,
 "nbformat_minor": 2
}
