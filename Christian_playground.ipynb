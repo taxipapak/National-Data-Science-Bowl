{
 "cells": [
  {
   "cell_type": "code",
   "execution_count": 1,
   "metadata": {},
   "outputs": [
    {
     "name": "stderr",
     "output_type": "stream",
     "text": [
      "Using TensorFlow backend.\n"
     ]
    }
   ],
   "source": [
    "import numpy as np \n",
    "import pandas as pd\n",
    "import os, zipfile\n",
    "\n",
    "import matplotlib.pyplot as plt\n",
    "import matplotlib.image as mpimg\n",
    "from PIL import Image\n",
    "\n",
    "from keras.preprocessing.image import load_img, img_to_array\n",
    "from keras.utils.np_utils import to_categorical\n",
    "from sklearn.model_selection import train_test_split"
   ]
  },
  {
   "cell_type": "markdown",
   "metadata": {},
   "source": [
    "<h1>Preprocessing</h1>"
   ]
  },
  {
   "cell_type": "code",
   "execution_count": 2,
   "metadata": {
    "collapsed": true
   },
   "outputs": [],
   "source": [
    "# read in data\n",
    "train_df = pd.read_csv('./train_onelabel.csv')\n",
    "train_images_paths = ['./train_images/' + p for p in train_df.image]\n",
    "train_labels = train_df['class'].values"
   ]
  },
  {
   "cell_type": "code",
   "execution_count": 3,
   "metadata": {},
   "outputs": [
    {
     "data": {
      "text/plain": [
       "(24204, 32, 32, 1)"
      ]
     },
     "execution_count": 3,
     "metadata": {},
     "output_type": "execute_result"
    }
   ],
   "source": [
    "# create image matrix\n",
    "train_images = (load_img(p, target_size=(32, 32)) for p in train_images_paths)\n",
    "train_images = [img_to_array(img)[:, :, [0]] for img in train_images]\n",
    "train_images = np.array(train_images)\n",
    "train_images.shape"
   ]
  },
  {
   "cell_type": "code",
   "execution_count": 4,
   "metadata": {
    "collapsed": true
   },
   "outputs": [],
   "source": [
    "# preprocessing of labels\n",
    "classes = len(np.unique(train_labels))\n",
    "train_labels = to_categorical(train_labels, classes)"
   ]
  },
  {
   "cell_type": "code",
   "execution_count": 5,
   "metadata": {
    "collapsed": true
   },
   "outputs": [],
   "source": [
    "# split data into test and train set\n",
    "x_train, y_train, x_val,  y_val = train_test_split(train_images, train_labels, test_size=0.2)"
   ]
  },
  {
   "cell_type": "code",
   "execution_count": 6,
   "metadata": {
    "collapsed": true
   },
   "outputs": [],
   "source": [
    "# normalize image data\n",
    "\n",
    "x_train = x_train.astype('float32')\n",
    "y_train = y_train.astype('float32')\n",
    "x_train /= 255\n",
    "y_train /= 255"
   ]
  },
  {
   "cell_type": "markdown",
   "metadata": {},
   "source": [
    "<h1>Model</h1>"
   ]
  },
  {
   "cell_type": "code",
   "execution_count": 7,
   "metadata": {
    "collapsed": true
   },
   "outputs": [],
   "source": [
    "# Importing the Keras libraries and packages\n",
    "from keras.models import Sequential\n",
    "from keras.layers import Conv2D\n",
    "from keras.layers import MaxPooling2D\n",
    "from keras.layers import Flatten\n",
    "from keras.layers import Dense\n",
    "from keras.layers import Dropout"
   ]
  },
  {
   "cell_type": "code",
   "execution_count": 8,
   "metadata": {
    "collapsed": true
   },
   "outputs": [],
   "source": [
    "# Initialising the CNN\n",
    "classifier = Sequential()"
   ]
  },
  {
   "cell_type": "code",
   "execution_count": 9,
   "metadata": {
    "collapsed": true
   },
   "outputs": [],
   "source": [
    "# Step 1 - Convolution ---TODO: see input specification\n",
    "classifier.add(Conv2D(32, (3, 3), input_shape = (32, 32,1),padding='same', activation = 'relu'))"
   ]
  },
  {
   "cell_type": "code",
   "execution_count": 10,
   "metadata": {
    "collapsed": true
   },
   "outputs": [],
   "source": [
    "# Step 2 - Pooling\n",
    "classifier.add(MaxPooling2D(pool_size = (2, 2)))"
   ]
  },
  {
   "cell_type": "code",
   "execution_count": 11,
   "metadata": {
    "collapsed": true
   },
   "outputs": [],
   "source": [
    "# Adding a second convolutional layer+pooling layer\n",
    "classifier.add(Conv2D(32, (3, 3), activation = 'relu', padding='same'))\n",
    "classifier.add(MaxPooling2D(pool_size = (2, 2)))"
   ]
  },
  {
   "cell_type": "code",
   "execution_count": 12,
   "metadata": {
    "collapsed": true
   },
   "outputs": [],
   "source": [
    "# Step 3 - Flattening\n",
    "classifier.add(Flatten())"
   ]
  },
  {
   "cell_type": "code",
   "execution_count": 13,
   "metadata": {
    "collapsed": true
   },
   "outputs": [],
   "source": [
    "#Step 4 - Create a fully connected neural network\n",
    "'''its good practise to pick a number of power of two-experimenting output_dim\n",
    "128 hidden nodes in hidden layers-by experimenting'''\n",
    " \n",
    "\n",
    "#output_dim = number of nodes in the hidden layer\n",
    "classifier.add(Dense(units= 128, activation = 'relu'))\n",
    "\n",
    "#Dropout (p was used in the old API, changed it to the new standard)\n",
    "classifier.add(Dropout(rate = 0.1))\n",
    "\n",
    "#second hidden layer\n",
    "classifier.add(Dense(units = 128, activation = 'relu'))\n",
    "\n",
    "#Dropout\n",
    "#classifier.add(Dropout(p = 0.2))\n",
    "\n",
    "#output layer\n",
    "classifier.add(Dense(units = 121, activation = 'softmax')) #We have 121 categories of plankton!!"
   ]
  },
  {
   "cell_type": "code",
   "execution_count": 14,
   "metadata": {
    "collapsed": true
   },
   "outputs": [],
   "source": [
    "# Compiling the CNN\n",
    "classifier.compile(optimizer = 'adam', loss = 'categorical_crossentropy', metrics = ['accuracy'])"
   ]
  },
  {
   "cell_type": "code",
   "execution_count": 17,
   "metadata": {},
   "outputs": [
    {
     "name": "stderr",
     "output_type": "stream",
     "text": [
      "C:\\Users\\movetech\\Anaconda2\\envs\\py35\\lib\\site-packages\\keras\\models.py:874: UserWarning: The `nb_epoch` argument in `fit` has been renamed `epochs`.\n",
      "  warnings.warn('The `nb_epoch` argument in `fit` '\n"
     ]
    },
    {
     "name": "stdout",
     "output_type": "stream",
     "text": [
      "Epoch 1/10\n",
      "19363/19363 [==============================] - 45s 2ms/step - loss: 3.4099 - acc: 0.2029\n",
      "Epoch 2/10\n",
      "19363/19363 [==============================] - 47s 2ms/step - loss: 2.5170 - acc: 0.3427\n",
      "Epoch 3/10\n",
      "19363/19363 [==============================] - 46s 2ms/step - loss: 2.2397 - acc: 0.3924\n",
      "Epoch 4/10\n",
      "19363/19363 [==============================] - 46s 2ms/step - loss: 2.0769 - acc: 0.4227\n",
      "Epoch 5/10\n",
      "19363/19363 [==============================] - 47s 2ms/step - loss: 1.9764 - acc: 0.4503\n",
      "Epoch 6/10\n",
      "19363/19363 [==============================] - 44s 2ms/step - loss: 1.8856 - acc: 0.4669\n",
      "Epoch 7/10\n",
      "19363/19363 [==============================] - 45s 2ms/step - loss: 1.8048 - acc: 0.4858\n",
      "Epoch 8/10\n",
      "19363/19363 [==============================] - 46s 2ms/step - loss: 1.7404 - acc: 0.4973\n",
      "Epoch 9/10\n",
      "19363/19363 [==============================] - 51s 3ms/step - loss: 1.6782 - acc: 0.5119\n",
      "Epoch 10/10\n",
      "19363/19363 [==============================] - 49s 3ms/step - loss: 1.6438 - acc: 0.5229\n"
     ]
    },
    {
     "data": {
      "text/plain": [
       "<keras.callbacks.History at 0x1a48cd7cfd0>"
      ]
     },
     "execution_count": 17,
     "metadata": {},
     "output_type": "execute_result"
    }
   ],
   "source": [
    "# fit model on training data\n",
    "classifier.fit(x_train, x_val, batch_size=32, nb_epoch=10, verbose=1)"
   ]
  },
  {
   "cell_type": "code",
   "execution_count": 20,
   "metadata": {
    "collapsed": true
   },
   "outputs": [],
   "source": [
    "score = classifier.evaluate(y_train, y_val, verbose=0)"
   ]
  },
  {
   "cell_type": "code",
   "execution_count": 21,
   "metadata": {},
   "outputs": [
    {
     "data": {
      "text/plain": [
       "[1.7466102919039759, 0.52447841356938796]"
      ]
     },
     "execution_count": 21,
     "metadata": {},
     "output_type": "execute_result"
    }
   ],
   "source": [
    "score"
   ]
  },
  {
   "cell_type": "code",
   "execution_count": null,
   "metadata": {
    "collapsed": true
   },
   "outputs": [],
   "source": []
  }
 ],
 "metadata": {
  "kernelspec": {
   "display_name": "py35",
   "language": "python",
   "name": "py35"
  },
  "language_info": {
   "codemirror_mode": {
    "name": "ipython",
    "version": 3
   },
   "file_extension": ".py",
   "mimetype": "text/x-python",
   "name": "python",
   "nbconvert_exporter": "python",
   "pygments_lexer": "ipython3",
   "version": "3.5.4"
  }
 },
 "nbformat": 4,
 "nbformat_minor": 2
}
