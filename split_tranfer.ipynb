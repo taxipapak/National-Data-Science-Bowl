{
 "cells": [
  {
   "cell_type": "code",
   "execution_count": 7,
   "metadata": {},
   "outputs": [],
   "source": [
    "import os\n",
    "import random\n",
    "import pandas as pd"
   ]
  },
  {
   "cell_type": "code",
   "execution_count": 5,
   "metadata": {},
   "outputs": [],
   "source": [
    "directory1 = 'Categories'\n",
    "directory2 = 'test_data'\n",
    "\n",
    "#make two directories to split the data\n",
    "os.makedirs(directory1)\n",
    "os.makedirs(directory2)"
   ]
  },
  {
   "cell_type": "code",
   "execution_count": 8,
   "metadata": {},
   "outputs": [],
   "source": [
    "def create_folders(path):\n",
    "    labels_train = pd.read_csv('train_onelabel.csv')\n",
    "    for i in range(len(labels_train['class'].unique())):\n",
    "        os.makedirs(path+str(i))\n",
    "        \n",
    "create_folders(directory1+'/')\n",
    "create_folders(directory2+'/') "
   ]
  },
  {
   "cell_type": "code",
   "execution_count": null,
   "metadata": {},
   "outputs": [],
   "source": [
    "#Read the classes csv\n",
    "labels_train = pd.read_csv('train_onelabel.csv')\n",
    "df = labels_train.set_index('image')\n",
    "del df.index.name\n",
    "df.head()"
   ]
  },
  {
   "cell_type": "code",
   "execution_count": null,
   "metadata": {},
   "outputs": [],
   "source": [
    "path = 'train_images/'\n",
    "categories = directory1 +'/'\n",
    "\n",
    "current = path\n",
    "for  count,i in enumerate(os.listdir(path)):\n",
    "\n",
    "    temp = str(i)\n",
    "\n",
    "    print(path+temp)\n",
    "    print(categories+str(df.ix[i].values[0])+'/'+temp)\n",
    "\n",
    "    try:\n",
    "        #os.rename(current+temp, str(df.ix[i].values[0])+'/'+temp)\n",
    "        os.rename(path+temp, categories+str(df.ix[i].values[0])+'/'+temp)\n",
    "    except  :\n",
    "        pass"
   ]
  },
  {
   "cell_type": "code",
   "execution_count": null,
   "metadata": {},
   "outputs": [],
   "source": [
    "#30% test data\n",
    "\n",
    "split = 30\n",
    "\n",
    "path1 = categories\n",
    "path2 = directory2 +'/'\n",
    "\n",
    "N=((len(os.listdir(path1))*split)//100)\n",
    "\n",
    "for count, i in enumerate(os.listdir(path2)):\n",
    "    \n",
    "    folder = str(i) #each folder\n",
    "    \n",
    "    N=((len(os.listdir(path2+str(i)+'/'))*split)//100)\n",
    "    \n",
    "    path = path2+folder+'/' \n",
    "    \n",
    "    for count, j in enumerate(os.listdir(path)):\n",
    "    \n",
    "        temp = random.choice(os.listdir(path)) #pick an image randomly\n",
    "        \n",
    "        os.rename(path2+folder+'/' +temp, path1+folder+'/'+temp)\n",
    "    \n",
    "        if count==  N-1:\n",
    "            break"
   ]
  }
 ],
 "metadata": {
  "kernelspec": {
   "display_name": "Python [conda env:Tensor]",
   "language": "python",
   "name": "conda-env-Tensor-py"
  },
  "language_info": {
   "codemirror_mode": {
    "name": "ipython",
    "version": 3
   },
   "file_extension": ".py",
   "mimetype": "text/x-python",
   "name": "python",
   "nbconvert_exporter": "python",
   "pygments_lexer": "ipython3",
   "version": "3.5.4"
  }
 },
 "nbformat": 4,
 "nbformat_minor": 2
}
