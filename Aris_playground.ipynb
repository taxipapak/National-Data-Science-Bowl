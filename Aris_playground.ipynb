{
 "cells": [
  {
   "cell_type": "code",
   "execution_count": 1,
   "metadata": {},
   "outputs": [
    {
     "name": "stderr",
     "output_type": "stream",
     "text": [
      "Using TensorFlow backend.\n"
     ]
    }
   ],
   "source": [
    "import numpy as np \n",
    "import pandas as pd\n",
    "import os, zipfile\n",
    "import matplotlib.pyplot as plt\n",
    "import matplotlib.image as mpimg\n",
    "from zipfile import ZipFile\n",
    "from PIL import Image\n",
    "\n",
    "\n",
    "from keras.preprocessing.image import load_img, img_to_array\n",
    "from keras.utils.np_utils import to_categorical\n",
    "from sklearn.model_selection import train_test_split"
   ]
  },
  {
   "cell_type": "code",
   "execution_count": 2,
   "metadata": {},
   "outputs": [],
   "source": [
    "import warnings\n",
    "warnings.filterwarnings(\"ignore\")"
   ]
  },
  {
   "cell_type": "code",
   "execution_count": null,
   "metadata": {
    "scrolled": false
   },
   "outputs": [],
   "source": [
    "%matplotlib inline\n",
    "from skimage.io import imread\n",
    "from IPython import display\n",
    "\n",
    "'''Christian, just replace make another row of your path \n",
    "   where you will unzip the folders and when you push to github\n",
    "   comment it Like I did'''\n",
    "\n",
    "path = '/home/aris/Desktop/Data/train_data/0/'\n",
    "\n",
    "for count,filename in enumerate(os.listdir(path)):\n",
    "    \n",
    "    \n",
    "    plt.figure()\n",
    "    img=imread(path+filename, as_grey=True)\n",
    "    plt.imshow(img, cmap='gray')\n",
    "\n",
    "    #shows only the first three images and after breaks the loop.\n",
    "    if count ==2:\n",
    "            break\n",
    "    \n"
   ]
  },
  {
   "cell_type": "code",
   "execution_count": 21,
   "metadata": {},
   "outputs": [
    {
     "data": {
      "image/png": "[encoded data removed]",
      "text/plain": [
       "<matplotlib.figure.Figure at 0x7fee34b8a438>"
      ]
     },
     "metadata": {},
     "output_type": "display_data"
    }
   ],
   "source": [
    "test_image = './train_images/64.jpg'\n",
    "im = imread(test_image, as_grey=True)\n",
    "plt.imshow(im, cmap='gray')\n",
    "plt.show()"
   ]
  },
  {
   "cell_type": "code",
   "execution_count": 25,
   "metadata": {},
   "outputs": [
    {
     "data": {
      "text/plain": [
       "<matplotlib.image.AxesImage at 0x7fee4fe1a9b0>"
      ]
     },
     "execution_count": 25,
     "metadata": {},
     "output_type": "execute_result"
    },
    {
     "data": {
      "image/png": "[encoded data removed]",
      "text/plain": [
       "<matplotlib.figure.Figure at 0x7fee34b61ef0>"
      ]
     },
     "metadata": {},
     "output_type": "display_data"
    }
   ],
   "source": [
    "from pylab import cm\n",
    "from skimage import segmentation\n",
    "from skimage.morphology import watershed\n",
    "from skimage import measure\n",
    "from skimage import morphology\n",
    "\n",
    "# First we threshold the image by only taking values greater than the mean to reduce noise in the image\n",
    "# to use later as a mask\n",
    "f = plt.figure(figsize=(12,3))\n",
    "imthr = im.copy()\n",
    "imthr = np.where(im > np.mean(im),0.,1.0)\n",
    "sub1 = plt.subplot(1,4,1)\n",
    "plt.imshow(im, cmap=cm.gray)\n",
    "sub1.set_title(\"Original Image\")\n",
    "\n",
    "sub2 = plt.subplot(1,4,2)\n",
    "plt.imshow(imthr, cmap=cm.gray_r)\n",
    "sub2.set_title(\"Thresholded Image\")\n",
    "\n",
    "imdilated = morphology.dilation(imthr, np.ones((4,4)))\n",
    "sub3 = plt.subplot(1, 4, 3)\n",
    "plt.imshow(imdilated, cmap=cm.gray_r)\n",
    "sub3.set_title(\"Dilated Image\")\n",
    "\n",
    "labels = measure.label(imdilated)\n",
    "labels = imthr*labels\n",
    "labels = labels.astype(int)\n",
    "sub4 = plt.subplot(1, 4, 4)\n",
    "sub4.set_title(\"Labeled Image\")\n",
    "plt.imshow(labels)"
   ]
  },
  {
   "cell_type": "code",
   "execution_count": 27,
   "metadata": {},
   "outputs": [],
   "source": [
    "# calculate common region properties for each region within the segmentation\n",
    "regions = measure.regionprops(labels)\n",
    "# find the largest nonzero region\n",
    "def getLargestRegion(props=regions, labelmap=labels, imagethres=imthr):\n",
    "    regionmaxprop = None\n",
    "    for regionprop in props:\n",
    "        # check to see if the region is at least 50% nonzero\n",
    "        if sum(imagethres[labelmap == regionprop.label])*1.0/regionprop.area < 0.50:\n",
    "            continue\n",
    "        if regionmaxprop is None:\n",
    "            regionmaxprop = regionprop\n",
    "        if regionmaxprop.filled_area < regionprop.filled_area:\n",
    "            regionmaxprop = regionprop\n",
    "    return regionmaxprop"
   ]
  },
  {
   "cell_type": "code",
   "execution_count": 28,
   "metadata": {},
   "outputs": [
    {
     "data": {
      "image/png": "[encoded data removed]",
      "text/plain": [
       "<matplotlib.figure.Figure at 0x7fee34bb8e10>"
      ]
     },
     "metadata": {},
     "output_type": "display_data"
    }
   ],
   "source": [
    "regionmax = getLargestRegion()\n",
    "plt.imshow(np.where(labels == regionmax.label,1.0,0.0))\n",
    "plt.show()"
   ]
  },
  {
   "cell_type": "code",
   "execution_count": 22,
   "metadata": {},
   "outputs": [],
   "source": [
    "\n",
    "\n",
    "def getMinorMajorRatio(image):\n",
    "    image = image.copy()\n",
    "    # Create the thresholded image to eliminate some of the background\n",
    "    imagethr = np.where(image > np.mean(image),0.,1.0)\n",
    "\n",
    "    #Dilate the image\n",
    "    imdilated = morphology.dilation(imagethr, np.ones((4,4)))\n",
    "\n",
    "    # Create the label list\n",
    "    label_list = measure.label(imdilated)\n",
    "    label_list = imagethr*label_list\n",
    "    label_list = label_list.astype(int)\n",
    "    \n",
    "    region_list = measure.regionprops(label_list)\n",
    "    maxregion = getLargestRegion(region_list, label_list, imagethr)\n",
    "    \n",
    "    # guard against cases where the segmentation fails by providing zeros\n",
    "    ratio = 0.0\n",
    "    if ((not maxregion is None) and  (maxregion.major_axis_length != 0.0)):\n",
    "        ratio = 0.0 if maxregion is None else  maxregion.minor_axis_length*1.0 / maxregion.major_axis_length\n",
    "    return ratio"
   ]
  },
  {
   "cell_type": "markdown",
   "metadata": {},
   "source": [
    "# Preprocessing"
   ]
  },
  {
   "cell_type": "code",
   "execution_count": 2,
   "metadata": {},
   "outputs": [],
   "source": [
    "# read in data\n",
    "train_df = pd.read_csv('./train_onelabel.csv')\n",
    "train_images_paths = ['./train_images/' + p for p in train_df.image]\n",
    "train_labels = train_df['class'].values"
   ]
  },
  {
   "cell_type": "code",
   "execution_count": 3,
   "metadata": {},
   "outputs": [
    {
     "data": {
      "text/plain": [
       "(24204, 97, 97, 1)"
      ]
     },
     "execution_count": 3,
     "metadata": {},
     "output_type": "execute_result"
    }
   ],
   "source": [
    "# create image matrix\n",
    "#97x97\n",
    "train_images = (load_img(p, target_size=(97, 97)) for p in train_images_paths)\n",
    "train_images = [img_to_array(img)[:, :, [0]] for img in train_images]\n",
    "train_images = np.array(train_images)\n",
    "train_images.shape"
   ]
  },
  {
   "cell_type": "code",
   "execution_count": 4,
   "metadata": {},
   "outputs": [],
   "source": [
    "# preprocessing of labels\n",
    "classes = len(np.unique(train_labels))\n",
    "train_labels = to_categorical(train_labels, classes)"
   ]
  },
  {
   "cell_type": "code",
   "execution_count": 5,
   "metadata": {},
   "outputs": [],
   "source": [
    "from sklearn.utils import shuffle\n",
    "\n",
    "\n",
    "train_images, train_labels = shuffle(train_images, train_labels,random_state=0)\n",
    "train_images, train_labels = shuffle(train_images, train_labels,random_state=1)\n",
    "train_images, train_labels = shuffle(train_images, train_labels,random_state=2)\n",
    "train_images, train_labels = shuffle(train_images, train_labels,random_state=3)"
   ]
  },
  {
   "cell_type": "code",
   "execution_count": 6,
   "metadata": {},
   "outputs": [],
   "source": [
    "#Normalize image data\n",
    "# train_images = train_images.astype('float32')\n",
    "# train_images /= 255\n"
   ]
  },
  {
   "cell_type": "code",
   "execution_count": 9,
   "metadata": {},
   "outputs": [],
   "source": [
    "# split data into test and train set\n",
    "x_train, x_val, y_train,  y_val = train_test_split(train_images, train_labels, test_size=0.2)"
   ]
  },
  {
   "cell_type": "code",
   "execution_count": 11,
   "metadata": {},
   "outputs": [],
   "source": [
    "# normalize image data\n",
    "\n",
    "x_train = x_train.astype('float32')\n",
    "x_val = x_val.astype('float32')\n",
    "x_train /= 255\n",
    "x_val /= 255\n",
    "\n",
    "\n",
    "# train_images = train_images.astype('float32')\n",
    "# train_images /= 255\n"
   ]
  },
  {
   "cell_type": "markdown",
   "metadata": {},
   "source": [
    "# Model"
   ]
  },
  {
   "cell_type": "code",
   "execution_count": 12,
   "metadata": {},
   "outputs": [],
   "source": [
    "# Importing the Keras libraries and packages\n",
    "from keras.models import Sequential\n",
    "from keras.layers import Conv2D\n",
    "from keras.layers import MaxPooling2D\n",
    "from keras.layers import Flatten\n",
    "from keras.layers import Dense\n",
    "from keras.layers import Dropout"
   ]
  },
  {
   "cell_type": "code",
   "execution_count": null,
   "metadata": {},
   "outputs": [],
   "source": []
  },
  {
   "cell_type": "code",
   "execution_count": 13,
   "metadata": {},
   "outputs": [],
   "source": [
    "# Initialising the CNN\n",
    "classifier = Sequential()"
   ]
  },
  {
   "cell_type": "code",
   "execution_count": 14,
   "metadata": {},
   "outputs": [],
   "source": [
    "# classifier.add(Conv2D(96, (5, 5), input_shape = (32, 32,1),padding='same', activation = 'relu'))\n",
    "\n",
    "# classifier.add(MaxPooling2D(pool_size = (3, 3),strides =2))\n",
    "# classifier.add(Conv2D(256, (5, 5),padding='same', activation = 'relu'))\n",
    "# classifier.add(MaxPooling2D(pool_size = (3, 3),strides =2))\n",
    "\n",
    "# classifier.add(Conv2D(384, (5, 5),padding='same', activation = 'relu'))\n",
    "# classifier.add(Conv2D(384, (5, 5),padding='same', activation = 'relu'))\n",
    "# classifier.add(Conv2D(256, (5, 5),padding='same', activation = 'relu'))\n",
    "\n",
    "# classifier.add(MaxPooling2D(pool_size = (3, 3),strides =2))"
   ]
  },
  {
   "cell_type": "code",
   "execution_count": 15,
   "metadata": {},
   "outputs": [],
   "source": [
    "# Step 1 - Convolution ---TODO: see input specification\n",
    "classifier.add(Conv2D(32, (5, 5), input_shape = (97, 97,1),padding='same', activation = 'relu'))"
   ]
  },
  {
   "cell_type": "code",
   "execution_count": 16,
   "metadata": {},
   "outputs": [],
   "source": [
    "# Step 2 - Pooling\n",
    "classifier.add(MaxPooling2D(pool_size = (3, 3),strides =(2,2)))"
   ]
  },
  {
   "cell_type": "code",
   "execution_count": 17,
   "metadata": {},
   "outputs": [],
   "source": [
    "# Adding a second convolutional layer+pooling layer\n",
    "classifier.add(Conv2D(64, (5, 5), activation = 'relu', padding='same'))\n",
    "classifier.add(Conv2D(64, (5, 5), activation = 'relu', padding='same'))\n",
    "classifier.add(MaxPooling2D(pool_size = (3, 3),strides =(2,2)))"
   ]
  },
  {
   "cell_type": "code",
   "execution_count": 18,
   "metadata": {},
   "outputs": [],
   "source": [
    "# Step 3 - Flattening\n",
    "classifier.add(Flatten())"
   ]
  },
  {
   "cell_type": "code",
   "execution_count": 19,
   "metadata": {},
   "outputs": [],
   "source": [
    "#Step 4 - Create a fully connected neural network\n",
    "'''its good practise to pick a number of power of two-experimenting output_dim\n",
    "128 hidden nodes in hidden layers-by experimenting'''\n",
    " \n",
    "\n",
    "#output_dim = number of nodes in the hidden layer\n",
    "classifier.add(Dense(units= 256, activation = 'relu'))\n",
    "classifier.add(Dropout(rate = 0.2))\n",
    "\n",
    "#Dropout (p was used in the old API, changed it to the new standard)\n",
    "# classifier.add(Dense(units= 256, activation = 'relu'))\n",
    "# classifier.add(Dropout(rate = 0.5))\n",
    "\n",
    "# classifier.add(Dense(units= 256, activation = 'relu'))\n",
    "# classifier.add(Dropout(rate = 0.5))\n",
    "\n",
    "#second hidden layer\n",
    "classifier.add(Dense(units = 256, activation = 'relu'))\n",
    "\n",
    "\n",
    "#output layer\n",
    "classifier.add(Dense(units = 121, activation = 'softmax')) #We have 121 categories of plankton!!"
   ]
  },
  {
   "cell_type": "code",
   "execution_count": 20,
   "metadata": {},
   "outputs": [],
   "source": [
    "# Compiling the CNN\n",
    "classifier.compile(optimizer = 'adam', loss = 'categorical_crossentropy', metrics = ['accuracy'])\n"
   ]
  },
  {
   "cell_type": "code",
   "execution_count": 21,
   "metadata": {},
   "outputs": [],
   "source": [
    "from keras.callbacks import EarlyStopping\n",
    "\n",
    "early_stopping_monitor = EarlyStopping(patience = 10)"
   ]
  },
  {
   "cell_type": "code",
   "execution_count": null,
   "metadata": {},
   "outputs": [
    {
     "name": "stdout",
     "output_type": "stream",
     "text": [
      "Epoch 1/25\n",
      "243/242 [==============================] - 1729s 7s/step - loss: 3.2998 - acc: 0.2230 - val_loss: 2.4498 - val_acc: 0.3508\n",
      "Epoch 2/25\n",
      "243/242 [==============================] - 1704s 7s/step - loss: 2.3225 - acc: 0.3688 - val_loss: 1.9649 - val_acc: 0.4445\n",
      "Epoch 3/25\n",
      "226/242 [===========================>..] - ETA: 2:02 - loss: 2.1206 - acc: 0.4122"
     ]
    }
   ],
   "source": [
    "from keras.preprocessing.image import ImageDataGenerator\n",
    "\n",
    "batch_size = 80\n",
    "epochs = 20\n",
    "#IMAGE Augmentation\n",
    "\n",
    "#create a generator  from  transforming the images\n",
    "#generator = ImageDataGenerator(horizontal_flip=True, vertical_flip=True)\n",
    "\n",
    "#flow dataset \n",
    "#flow = generator.flow(train_images,  batch_size=batch_size)\n",
    "#flow = generator.flow(train_images,  batch_size=batch_size)\n",
    "\n",
    "# fits the model on batches with real-time data augmentation:\n",
    "# history = classifier.fit_generator(datagen.flow(x_train, y_train, batch_size=32),\n",
    "#                     steps_per_epoch=len(x_train) / 32, epochs=epochs)\n",
    "\n",
    "generator = ImageDataGenerator( horizontal_flip=True, vertical_flip=True)\n",
    "flow = generator.flow(x_train, y_train, batch_size=batch_size)\n",
    "\n",
    "history = classifier.fit_generator(flow,\n",
    "                         steps_per_epoch = (len(x_train)/ batch_size),\n",
    "                         epochs = 25,\n",
    "                         validation_data =[x_val, y_val],\n",
    "                         validation_steps = (len(x_val)/batch_size))"
   ]
  },
  {
   "cell_type": "code",
   "execution_count": 88,
   "metadata": {
    "scrolled": false
   },
   "outputs": [
    {
     "name": "stdout",
     "output_type": "stream",
     "text": [
      "Train on 19363 samples, validate on 4841 samples\n",
      "Epoch 1/50\n",
      "19363/19363 [==============================] - 146s 8ms/step - loss: 4.0904 - acc: 0.0926 - val_loss: 3.6054 - val_acc: 0.1475\n",
      "Epoch 2/50\n",
      "19363/19363 [==============================] - 138s 7ms/step - loss: 3.3144 - acc: 0.2002 - val_loss: 2.7836 - val_acc: 0.2561\n",
      "Epoch 3/50\n",
      "19363/19363 [==============================] - 138s 7ms/step - loss: 2.8281 - acc: 0.2687 - val_loss: 2.4755 - val_acc: 0.3245\n",
      "Epoch 4/50\n",
      "19363/19363 [==============================] - 138s 7ms/step - loss: 2.6213 - acc: 0.3054 - val_loss: 2.3230 - val_acc: 0.3634\n",
      "Epoch 5/50\n",
      "19363/19363 [==============================] - 138s 7ms/step - loss: 2.4971 - acc: 0.3317 - val_loss: 2.2574 - val_acc: 0.3780\n",
      "Epoch 6/50\n",
      "19363/19363 [==============================] - 138s 7ms/step - loss: 2.3909 - acc: 0.3477 - val_loss: 2.1526 - val_acc: 0.3873\n",
      "Epoch 7/50\n",
      "19363/19363 [==============================] - 138s 7ms/step - loss: 2.3218 - acc: 0.3624 - val_loss: 2.1216 - val_acc: 0.3910\n",
      "Epoch 8/50\n",
      "19363/19363 [==============================] - 138s 7ms/step - loss: 2.2767 - acc: 0.3716 - val_loss: 2.0720 - val_acc: 0.4183\n",
      "Epoch 9/50\n",
      "19363/19363 [==============================] - 138s 7ms/step - loss: 2.2211 - acc: 0.3838 - val_loss: 2.0581 - val_acc: 0.4150\n",
      "Epoch 10/50\n",
      "19363/19363 [==============================] - 138s 7ms/step - loss: 2.1687 - acc: 0.3973 - val_loss: 2.0306 - val_acc: 0.4156\n",
      "Epoch 11/50\n",
      "19363/19363 [==============================] - 138s 7ms/step - loss: 2.1459 - acc: 0.3955 - val_loss: 1.9921 - val_acc: 0.4276\n",
      "Epoch 12/50\n",
      "19363/19363 [==============================] - 138s 7ms/step - loss: 2.1022 - acc: 0.4052 - val_loss: 1.9434 - val_acc: 0.4373\n",
      "Epoch 13/50\n",
      "19363/19363 [==============================] - 138s 7ms/step - loss: 2.0744 - acc: 0.4161 - val_loss: 1.9119 - val_acc: 0.4464\n",
      "Epoch 14/50\n",
      "19363/19363 [==============================] - 138s 7ms/step - loss: 2.0507 - acc: 0.4246 - val_loss: 1.8907 - val_acc: 0.4511\n",
      "Epoch 15/50\n",
      "19363/19363 [==============================] - 138s 7ms/step - loss: 2.0222 - acc: 0.4236 - val_loss: 1.8741 - val_acc: 0.4578\n",
      "Epoch 16/50\n",
      "19363/19363 [==============================] - 138s 7ms/step - loss: 1.9903 - acc: 0.4370 - val_loss: 1.8645 - val_acc: 0.4580\n",
      "Epoch 17/50\n",
      "19363/19363 [==============================] - 138s 7ms/step - loss: 1.9741 - acc: 0.4346 - val_loss: 1.8508 - val_acc: 0.4644\n",
      "Epoch 18/50\n",
      "19363/19363 [==============================] - 138s 7ms/step - loss: 1.9521 - acc: 0.4343 - val_loss: 1.8302 - val_acc: 0.4685\n",
      "Epoch 19/50\n",
      "19363/19363 [==============================] - 138s 7ms/step - loss: 1.9178 - acc: 0.4456 - val_loss: 1.8400 - val_acc: 0.4691\n",
      "Epoch 20/50\n",
      "19363/19363 [==============================] - 138s 7ms/step - loss: 1.9181 - acc: 0.4452 - val_loss: 1.8043 - val_acc: 0.4683\n",
      "Epoch 21/50\n",
      "19363/19363 [==============================] - 138s 7ms/step - loss: 1.8945 - acc: 0.4481 - val_loss: 1.8003 - val_acc: 0.4699\n",
      "Epoch 22/50\n",
      "19363/19363 [==============================] - 138s 7ms/step - loss: 1.8933 - acc: 0.4543 - val_loss: 1.8008 - val_acc: 0.4697\n",
      "Epoch 23/50\n",
      "19363/19363 [==============================] - 138s 7ms/step - loss: 1.8524 - acc: 0.4681 - val_loss: 1.7929 - val_acc: 0.4790\n",
      "Epoch 24/50\n",
      "19363/19363 [==============================] - 138s 7ms/step - loss: 1.8441 - acc: 0.4682 - val_loss: 1.8046 - val_acc: 0.4749\n",
      "Epoch 25/50\n",
      "19363/19363 [==============================] - 138s 7ms/step - loss: 1.8260 - acc: 0.4679 - val_loss: 1.7673 - val_acc: 0.4879\n",
      "Epoch 26/50\n",
      "19363/19363 [==============================] - 138s 7ms/step - loss: 1.8080 - acc: 0.4707 - val_loss: 1.7753 - val_acc: 0.4865\n",
      "Epoch 27/50\n",
      "19363/19363 [==============================] - 138s 7ms/step - loss: 1.8039 - acc: 0.4752 - val_loss: 1.7466 - val_acc: 0.4885\n",
      "Epoch 28/50\n",
      "19363/19363 [==============================] - 138s 7ms/step - loss: 1.7865 - acc: 0.4788 - val_loss: 1.7724 - val_acc: 0.4896\n",
      "Epoch 29/50\n",
      "19363/19363 [==============================] - 138s 7ms/step - loss: 1.7800 - acc: 0.4823 - val_loss: 1.7567 - val_acc: 0.4985\n",
      "Epoch 30/50\n",
      "19363/19363 [==============================] - 138s 7ms/step - loss: 1.7557 - acc: 0.4841 - val_loss: 1.7460 - val_acc: 0.4906\n",
      "Epoch 31/50\n",
      "19363/19363 [==============================] - 138s 7ms/step - loss: 1.7447 - acc: 0.4886 - val_loss: 1.7231 - val_acc: 0.4918\n",
      "Epoch 32/50\n",
      "19363/19363 [==============================] - 138s 7ms/step - loss: 1.7585 - acc: 0.4906 - val_loss: 1.7553 - val_acc: 0.5034\n",
      "Epoch 33/50\n",
      "19363/19363 [==============================] - 138s 7ms/step - loss: 1.7275 - acc: 0.4929 - val_loss: 1.7147 - val_acc: 0.5094\n",
      "Epoch 34/50\n",
      "19363/19363 [==============================] - 138s 7ms/step - loss: 1.7190 - acc: 0.4955 - val_loss: 1.7368 - val_acc: 0.5098\n",
      "Epoch 35/50\n",
      "19363/19363 [==============================] - 138s 7ms/step - loss: 1.7058 - acc: 0.5005 - val_loss: 1.7240 - val_acc: 0.5094\n",
      "Epoch 36/50\n",
      "19363/19363 [==============================] - 138s 7ms/step - loss: 1.7035 - acc: 0.5003 - val_loss: 1.7308 - val_acc: 0.5013\n",
      "Epoch 37/50\n",
      "19363/19363 [==============================] - 138s 7ms/step - loss: 1.6830 - acc: 0.5034 - val_loss: 1.7309 - val_acc: 0.5034\n",
      "Epoch 38/50\n",
      "19363/19363 [==============================] - 138s 7ms/step - loss: 1.6789 - acc: 0.5075 - val_loss: 1.7217 - val_acc: 0.5057\n",
      "Epoch 39/50\n",
      "19363/19363 [==============================] - 138s 7ms/step - loss: 1.6694 - acc: 0.5084 - val_loss: 1.7159 - val_acc: 0.5088\n",
      "Epoch 40/50\n",
      "19363/19363 [==============================] - 138s 7ms/step - loss: 1.6615 - acc: 0.5107 - val_loss: 1.6982 - val_acc: 0.5119\n",
      "Epoch 41/50\n",
      "19363/19363 [==============================] - 139s 7ms/step - loss: 1.6517 - acc: 0.5116 - val_loss: 1.7257 - val_acc: 0.5040\n",
      "Epoch 42/50\n",
      "19363/19363 [==============================] - 138s 7ms/step - loss: 1.6650 - acc: 0.5102 - val_loss: 1.6931 - val_acc: 0.5040\n",
      "Epoch 43/50\n",
      "19363/19363 [==============================] - 138s 7ms/step - loss: 1.6517 - acc: 0.5118 - val_loss: 1.7229 - val_acc: 0.5084\n",
      "Epoch 44/50\n",
      "19363/19363 [==============================] - 138s 7ms/step - loss: 1.6321 - acc: 0.5218 - val_loss: 1.8018 - val_acc: 0.4865\n",
      "Epoch 45/50\n",
      "19363/19363 [==============================] - 138s 7ms/step - loss: 1.6299 - acc: 0.5190 - val_loss: 1.7104 - val_acc: 0.5032\n",
      "Epoch 46/50\n",
      "19363/19363 [==============================] - 138s 7ms/step - loss: 1.6120 - acc: 0.5220 - val_loss: 1.7294 - val_acc: 0.5069\n",
      "Epoch 47/50\n",
      "19363/19363 [==============================] - 138s 7ms/step - loss: 1.6065 - acc: 0.5302 - val_loss: 1.7383 - val_acc: 0.5034\n",
      "Epoch 48/50\n",
      "19363/19363 [==============================] - 138s 7ms/step - loss: 1.6116 - acc: 0.5308 - val_loss: 1.7078 - val_acc: 0.5172\n",
      "Epoch 49/50\n",
      "19363/19363 [==============================] - 138s 7ms/step - loss: 1.6027 - acc: 0.5279 - val_loss: 1.6847 - val_acc: 0.5166\n",
      "Epoch 50/50\n",
      "19363/19363 [==============================] - 138s 7ms/step - loss: 1.5962 - acc: 0.5291 - val_loss: 1.6997 - val_acc: 0.5148\n"
     ]
    }
   ],
   "source": [
    "# fit model on training data\n",
    "#classifier.fit(x_train, x_val, batch_size=50, nb_epoch=20, verbose=1)\n",
    "\n",
    "#, callbacks = [early_stopping_monitor]\n",
    "\n",
    "history = classifier.fit(train_images, train_labels, batch_size=80, nb_epoch=20, verbose=1,shuffle=True ,validation_split = 0.2)"
   ]
  },
  {
   "cell_type": "code",
   "execution_count": 62,
   "metadata": {},
   "outputs": [
    {
     "ename": "NameError",
     "evalue": "name 'ImageDataGenerator' is not defined",
     "output_type": "error",
     "traceback": [
      "\u001b[0;31m---------------------------------------------------------------------------\u001b[0m",
      "\u001b[0;31mNameError\u001b[0m                                 Traceback (most recent call last)",
      "\u001b[0;32m<ipython-input-62-08e5dc1b8306>\u001b[0m in \u001b[0;36m<module>\u001b[0;34m()\u001b[0m\n\u001b[1;32m      1\u001b[0m \u001b[0;31m#Produce more images\u001b[0m\u001b[0;34m\u001b[0m\u001b[0;34m\u001b[0m\u001b[0m\n\u001b[1;32m      2\u001b[0m \u001b[0mbatch_size\u001b[0m \u001b[0;34m=\u001b[0m \u001b[0;36m80\u001b[0m\u001b[0;34m\u001b[0m\u001b[0m\n\u001b[0;32m----> 3\u001b[0;31m \u001b[0mgenerator\u001b[0m \u001b[0;34m=\u001b[0m \u001b[0mImageDataGenerator\u001b[0m\u001b[0;34m(\u001b[0m\u001b[0mhorizontal_flip\u001b[0m\u001b[0;34m=\u001b[0m\u001b[0;32mTrue\u001b[0m\u001b[0;34m,\u001b[0m \u001b[0mvertical_flip\u001b[0m\u001b[0;34m=\u001b[0m\u001b[0;32mTrue\u001b[0m\u001b[0;34m)\u001b[0m\u001b[0;34m\u001b[0m\u001b[0m\n\u001b[0m\u001b[1;32m      4\u001b[0m \u001b[0mflow\u001b[0m \u001b[0;34m=\u001b[0m \u001b[0mgenerator\u001b[0m\u001b[0;34m.\u001b[0m\u001b[0mflow\u001b[0m\u001b[0;34m(\u001b[0m\u001b[0mx_train\u001b[0m\u001b[0;34m,\u001b[0m \u001b[0my_train\u001b[0m\u001b[0;34m,\u001b[0m \u001b[0mbatch_size\u001b[0m\u001b[0;34m=\u001b[0m\u001b[0mbatch_size\u001b[0m\u001b[0;34m)\u001b[0m\u001b[0;34m\u001b[0m\u001b[0m\n\u001b[1;32m      5\u001b[0m \u001b[0;34m\u001b[0m\u001b[0m\n",
      "\u001b[0;31mNameError\u001b[0m: name 'ImageDataGenerator' is not defined"
     ]
    }
   ],
   "source": [
    "#Produce more images\n",
    "batch_size = 80\n",
    "generator = ImageDataGenerator(horizontal_flip=True, vertical_flip=True)\n",
    "flow = generator.flow(x_train, y_train, batch_size=batch_size)\n",
    "\n"
   ]
  },
  {
   "cell_type": "code",
   "execution_count": 63,
   "metadata": {},
   "outputs": [
    {
     "ename": "NameError",
     "evalue": "name 'ImageDataGenerator' is not defined",
     "output_type": "error",
     "traceback": [
      "\u001b[0;31m---------------------------------------------------------------------------\u001b[0m",
      "\u001b[0;31mNameError\u001b[0m                                 Traceback (most recent call last)",
      "\u001b[0;32m<ipython-input-63-e970ebdc03a0>\u001b[0m in \u001b[0;36m<module>\u001b[0;34m()\u001b[0m\n\u001b[0;32m----> 1\u001b[0;31m train_datagen = ImageDataGenerator(\n\u001b[0m\u001b[1;32m      2\u001b[0m         \u001b[0mrescale\u001b[0m\u001b[0;34m=\u001b[0m\u001b[0;36m1.\u001b[0m\u001b[0;34m/\u001b[0m\u001b[0;36m255\u001b[0m\u001b[0;34m,\u001b[0m\u001b[0;34m\u001b[0m\u001b[0m\n\u001b[1;32m      3\u001b[0m         \u001b[0mshear_range\u001b[0m\u001b[0;34m=\u001b[0m\u001b[0;36m0.2\u001b[0m\u001b[0;34m,\u001b[0m\u001b[0;34m\u001b[0m\u001b[0m\n\u001b[1;32m      4\u001b[0m         \u001b[0mzoom_range\u001b[0m\u001b[0;34m=\u001b[0m\u001b[0;36m0.2\u001b[0m\u001b[0;34m,\u001b[0m\u001b[0;34m\u001b[0m\u001b[0m\n\u001b[1;32m      5\u001b[0m         horizontal_flip=True)\n",
      "\u001b[0;31mNameError\u001b[0m: name 'ImageDataGenerator' is not defined"
     ]
    }
   ],
   "source": [
    "train_datagen = ImageDataGenerator(\n",
    "        \n",
    "        shear_range=0.2,\n",
    "        zoom_range=0.2,\n",
    "        horizontal_flip=True)\n",
    "\n",
    "#test_datagen = ImageDataGenerator(rescale=1./255)\n",
    "\n",
    "train_generator = train_datagen.flow_from_directory(\n",
    "        './train',\n",
    "        target_size=(64, 64),\n",
    "        batch_size=80,\n",
    "        class_mode='binary')\n",
    "\n",
    "# validation_generator = test_datagen.flow_from_directory(\n",
    "#         'data/validation',\n",
    "#         target_size=(150, 150),\n",
    "#         batch_size=32,\n",
    "#         class_mode='binary')\n",
    "\n",
    "model.fit_generator(\n",
    "        train_generator,\n",
    "        steps_per_epoch=2000,\n",
    "        epochs=50,\n",
    "        validation_data=validation_generator,\n",
    "        validation_steps=800)\n",
    "\n",
    "\n",
    "\n",
    "\n",
    "history = classifier.fit_generator(flow,\n",
    "                         steps_per_epoch = (len(x_train[::10])/ batch_size),\n",
    "                         epochs = 20,\n",
    "                         validation_data =[x_val[::10], y_val[::10]])"
   ]
  },
  {
   "cell_type": "code",
   "execution_count": 68,
   "metadata": {},
   "outputs": [
    {
     "ename": "NameError",
     "evalue": "name 'y_train' is not defined",
     "output_type": "error",
     "traceback": [
      "\u001b[0;31m---------------------------------------------------------------------------\u001b[0m",
      "\u001b[0;31mNameError\u001b[0m                                 Traceback (most recent call last)",
      "\u001b[0;32m<ipython-input-68-8ae5fb753a3e>\u001b[0m in \u001b[0;36m<module>\u001b[0;34m()\u001b[0m\n\u001b[0;32m----> 1\u001b[0;31m \u001b[0mscore\u001b[0m \u001b[0;34m=\u001b[0m \u001b[0mclassifier\u001b[0m\u001b[0;34m.\u001b[0m\u001b[0mevaluate\u001b[0m\u001b[0;34m(\u001b[0m\u001b[0my_train\u001b[0m\u001b[0;34m,\u001b[0m \u001b[0my_val\u001b[0m\u001b[0;34m,\u001b[0m \u001b[0mverbose\u001b[0m\u001b[0;34m=\u001b[0m\u001b[0;36m0\u001b[0m\u001b[0;34m)\u001b[0m\u001b[0;34m\u001b[0m\u001b[0m\n\u001b[0m\u001b[1;32m      2\u001b[0m \u001b[0mprint\u001b[0m\u001b[0;34m(\u001b[0m\u001b[0mscore\u001b[0m\u001b[0;34m)\u001b[0m\u001b[0;34m\u001b[0m\u001b[0m\n",
      "\u001b[0;31mNameError\u001b[0m: name 'y_train' is not defined"
     ]
    }
   ],
   "source": [
    "score = classifier.evaluate(y_train, y_val, verbose=0)\n",
    "print(score)"
   ]
  },
  {
   "cell_type": "markdown",
   "metadata": {},
   "source": [
    "# Visualization of Losses"
   ]
  },
  {
   "cell_type": "code",
   "execution_count": 89,
   "metadata": {},
   "outputs": [
    {
     "data": {
      "image/png": "[encoded data removed]",
      "text/plain": [
       "<matplotlib.figure.Figure at 0x7fa1c5e80a58>"
      ]
     },
     "metadata": {},
     "output_type": "display_data"
    }
   ],
   "source": [
    "plt.plot(history.history['loss'], label='train loss', lw=3)\n",
    "plt.plot(history.history['val_loss'], label='val loss', lw=3)\n",
    "plt.grid()\n",
    "plt.legend(loc=0)\n",
    "plt.show()"
   ]
  },
  {
   "cell_type": "markdown",
   "metadata": {},
   "source": [
    "# Save Model"
   ]
  },
  {
   "cell_type": "code",
   "execution_count": null,
   "metadata": {},
   "outputs": [],
   "source": [
    "from keras.models import model_from_json\n",
    "\n",
    "# serialize model to JSON\n",
    "best_model_classification_json = classifier.to_json()\n",
    "with open(\"best_model_3.json\", \"w\") as json_file:\n",
    "    json_file.write(best_model_classification_json)\n",
    "# serialize weights to HDF5\n",
    "classifier.save_weights(\"model_best.h5\")\n",
    "print(\"Saved model to disk\")"
   ]
  },
  {
   "cell_type": "markdown",
   "metadata": {},
   "source": [
    "# Load Model"
   ]
  },
  {
   "cell_type": "code",
   "execution_count": null,
   "metadata": {},
   "outputs": [],
   "source": [
    "from keras.models import model_from_json\n",
    "\n",
    "# load json and create model\n",
    "json_file = open('best_model_3.json', 'r')\n",
    "loaded_model_json = json_file.read()\n",
    "json_file.close()\n",
    "classifier = model_from_json(loaded_model_json)\n",
    "# load weights into new model\n",
    "classifier.load_weights(\"model_best.h5\")\n",
    "print(\"Loaded model from disk\")"
   ]
  },
  {
   "cell_type": "markdown",
   "metadata": {},
   "source": [
    "# Prediction"
   ]
  },
  {
   "cell_type": "code",
   "execution_count": 40,
   "metadata": {},
   "outputs": [],
   "source": [
    "# read in data\n",
    "test_df = pd.read_csv('./sample.csv')\n",
    "test_images_paths = ['./test_images/' + p for p in test_df['image']]\n",
    "test_images_names = [p for p in test_df['image']]"
   ]
  },
  {
   "cell_type": "code",
   "execution_count": 41,
   "metadata": {},
   "outputs": [
    {
     "data": {
      "text/plain": [
       "(6132, 32, 32, 1)"
      ]
     },
     "execution_count": 41,
     "metadata": {},
     "output_type": "execute_result"
    }
   ],
   "source": [
    "# create image matrix\n",
    "test_images = (load_img(p, target_size=(32, 32)) for p in test_images_paths)\n",
    "test_images = [img_to_array(img)[:, :, [0]] for img in test_images]\n",
    "test_images = np.array(test_images)\n",
    "test_images.shape"
   ]
  },
  {
   "cell_type": "code",
   "execution_count": 42,
   "metadata": {},
   "outputs": [],
   "source": [
    "# normalize image data\n",
    "test_images = test_images.astype('float32')\n",
    "test_images /= 255"
   ]
  },
  {
   "cell_type": "code",
   "execution_count": 43,
   "metadata": {},
   "outputs": [],
   "source": [
    "result = classifier.predict(test_images)"
   ]
  },
  {
   "cell_type": "code",
   "execution_count": 44,
   "metadata": {},
   "outputs": [],
   "source": [
    "labels = []\n",
    "\n",
    "for count, i in enumerate(result):\n",
    "    labels.append(np.argmax(result[count]))"
   ]
  },
  {
   "cell_type": "markdown",
   "metadata": {},
   "source": [
    "# Save results"
   ]
  },
  {
   "cell_type": "code",
   "execution_count": 45,
   "metadata": {},
   "outputs": [],
   "source": [
    "from collections import OrderedDict\n",
    "\n",
    "#Create Final csv for the competition\n",
    "csv_list =  pd.DataFrame( OrderedDict( { 'image': pd.Series(test_images_names), 'class': pd.Series(labels) } ) )\n",
    "csv_list.to_csv('sample1.csv',index=False)"
   ]
  },
  {
   "cell_type": "code",
   "execution_count": 46,
   "metadata": {},
   "outputs": [],
   "source": [
    "results1 = pd.read_csv('./sample1.csv')"
   ]
  },
  {
   "cell_type": "code",
   "execution_count": null,
   "metadata": {},
   "outputs": [],
   "source": []
  }
 ],
 "metadata": {
  "kernelspec": {
   "display_name": "Python [default]",
   "language": "python",
   "name": "python3"
  },
  "language_info": {
   "codemirror_mode": {
    "name": "ipython",
    "version": 3
   },
   "file_extension": ".py",
   "mimetype": "text/x-python",
   "name": "python",
   "nbconvert_exporter": "python",
   "pygments_lexer": "ipython3",
   "version": "3.5.4"
  }
 },
 "nbformat": 4,
 "nbformat_minor": 2
}
